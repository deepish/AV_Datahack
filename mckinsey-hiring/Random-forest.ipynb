{
 "cells": [
  {
   "cell_type": "code",
   "execution_count": 32,
   "metadata": {
    "collapsed": true
   },
   "outputs": [],
   "source": [
    "import pandas as pd\n",
    "import numpy as np\n",
    "\n",
    "from sklearn.ensemble import RandomForestClassifier\n",
    "from sklearn import cross_validation, metrics\n",
    "from sklearn.grid_search import GridSearchCV"
   ]
  },
  {
   "cell_type": "code",
   "execution_count": 2,
   "metadata": {
    "collapsed": true
   },
   "outputs": [],
   "source": [
    "trainDF = pd.read_csv('data/Train_psolI3n.csv')\n",
    "testDF = pd.read_csv('data/Test_09JmpYa.csv')"
   ]
  },
  {
   "cell_type": "code",
   "execution_count": 3,
   "metadata": {
    "collapsed": false
   },
   "outputs": [
    {
     "data": {
      "text/plain": [
       "0    0.803783\n",
       "1    0.161500\n",
       "2    0.034717\n",
       "Name: Email_Status, dtype: float64"
      ]
     },
     "execution_count": 3,
     "metadata": {},
     "output_type": "execute_result"
    }
   ],
   "source": [
    "#Check the percentage of email status\n",
    "trainDF['Email_Status'].value_counts() /trainDF['Email_Status'].size"
   ]
  },
  {
   "cell_type": "code",
   "execution_count": 4,
   "metadata": {
    "collapsed": false
   },
   "outputs": [],
   "source": [
    "target = trainDF['Email_Status']\n",
    "emailids = testDF['Email_ID']\n",
    "\n",
    "#Do the tagging for train and test\n",
    "trainDF['tag'] = 'train'\n",
    "testDF['tag'] = 'test'\n",
    "\n",
    "trainDF = trainDF.drop(['Email_ID','Email_Status'], axis=1)\n",
    "testDF = testDF.drop('Email_ID',axis=1)"
   ]
  },
  {
   "cell_type": "code",
   "execution_count": 5,
   "metadata": {
    "collapsed": false
   },
   "outputs": [],
   "source": [
    "#Merge all the data for processing\n",
    "allDF = pd.concat([trainDF,testDF],ignore_index=True)"
   ]
  },
  {
   "cell_type": "code",
   "execution_count": 6,
   "metadata": {
    "collapsed": false
   },
   "outputs": [
    {
     "data": {
      "text/html": [
       "<div>\n",
       "<table border=\"1\" class=\"dataframe\">\n",
       "  <thead>\n",
       "    <tr style=\"text-align: right;\">\n",
       "      <th></th>\n",
       "      <th>Email_Type</th>\n",
       "      <th>Subject_Hotness_Score</th>\n",
       "      <th>Email_Source_Type</th>\n",
       "      <th>Email_Campaign_Type</th>\n",
       "      <th>Total_Past_Communications</th>\n",
       "      <th>Time_Email_sent_Category</th>\n",
       "      <th>Word_Count</th>\n",
       "      <th>Total_Links</th>\n",
       "      <th>Total_Images</th>\n",
       "    </tr>\n",
       "  </thead>\n",
       "  <tbody>\n",
       "    <tr>\n",
       "      <th>count</th>\n",
       "      <td>114331.000000</td>\n",
       "      <td>114331.000000</td>\n",
       "      <td>114331.000000</td>\n",
       "      <td>114331.000000</td>\n",
       "      <td>102816.000000</td>\n",
       "      <td>114331.000000</td>\n",
       "      <td>114331.000000</td>\n",
       "      <td>110707.00000</td>\n",
       "      <td>111561.000000</td>\n",
       "    </tr>\n",
       "    <tr>\n",
       "      <th>mean</th>\n",
       "      <td>1.284096</td>\n",
       "      <td>1.095876</td>\n",
       "      <td>1.456928</td>\n",
       "      <td>2.270539</td>\n",
       "      <td>28.892225</td>\n",
       "      <td>1.997945</td>\n",
       "      <td>701.350885</td>\n",
       "      <td>10.41291</td>\n",
       "      <td>3.535178</td>\n",
       "    </tr>\n",
       "    <tr>\n",
       "      <th>std</th>\n",
       "      <td>0.450985</td>\n",
       "      <td>0.996247</td>\n",
       "      <td>0.498144</td>\n",
       "      <td>0.468056</td>\n",
       "      <td>12.528849</td>\n",
       "      <td>0.631809</td>\n",
       "      <td>271.875965</td>\n",
       "      <td>6.39044</td>\n",
       "      <td>5.592399</td>\n",
       "    </tr>\n",
       "    <tr>\n",
       "      <th>min</th>\n",
       "      <td>1.000000</td>\n",
       "      <td>0.000000</td>\n",
       "      <td>1.000000</td>\n",
       "      <td>1.000000</td>\n",
       "      <td>0.000000</td>\n",
       "      <td>1.000000</td>\n",
       "      <td>40.000000</td>\n",
       "      <td>1.00000</td>\n",
       "      <td>0.000000</td>\n",
       "    </tr>\n",
       "    <tr>\n",
       "      <th>25%</th>\n",
       "      <td>1.000000</td>\n",
       "      <td>0.200000</td>\n",
       "      <td>1.000000</td>\n",
       "      <td>2.000000</td>\n",
       "      <td>20.000000</td>\n",
       "      <td>2.000000</td>\n",
       "      <td>521.000000</td>\n",
       "      <td>6.00000</td>\n",
       "      <td>0.000000</td>\n",
       "    </tr>\n",
       "    <tr>\n",
       "      <th>50%</th>\n",
       "      <td>1.000000</td>\n",
       "      <td>0.800000</td>\n",
       "      <td>1.000000</td>\n",
       "      <td>2.000000</td>\n",
       "      <td>28.000000</td>\n",
       "      <td>2.000000</td>\n",
       "      <td>694.000000</td>\n",
       "      <td>9.00000</td>\n",
       "      <td>0.000000</td>\n",
       "    </tr>\n",
       "    <tr>\n",
       "      <th>75%</th>\n",
       "      <td>2.000000</td>\n",
       "      <td>1.800000</td>\n",
       "      <td>2.000000</td>\n",
       "      <td>3.000000</td>\n",
       "      <td>38.000000</td>\n",
       "      <td>2.000000</td>\n",
       "      <td>880.000000</td>\n",
       "      <td>14.00000</td>\n",
       "      <td>5.000000</td>\n",
       "    </tr>\n",
       "    <tr>\n",
       "      <th>max</th>\n",
       "      <td>2.000000</td>\n",
       "      <td>5.000000</td>\n",
       "      <td>2.000000</td>\n",
       "      <td>3.000000</td>\n",
       "      <td>67.000000</td>\n",
       "      <td>3.000000</td>\n",
       "      <td>1316.000000</td>\n",
       "      <td>49.00000</td>\n",
       "      <td>47.000000</td>\n",
       "    </tr>\n",
       "  </tbody>\n",
       "</table>\n",
       "</div>"
      ],
      "text/plain": [
       "          Email_Type  Subject_Hotness_Score  Email_Source_Type  \\\n",
       "count  114331.000000          114331.000000      114331.000000   \n",
       "mean        1.284096               1.095876           1.456928   \n",
       "std         0.450985               0.996247           0.498144   \n",
       "min         1.000000               0.000000           1.000000   \n",
       "25%         1.000000               0.200000           1.000000   \n",
       "50%         1.000000               0.800000           1.000000   \n",
       "75%         2.000000               1.800000           2.000000   \n",
       "max         2.000000               5.000000           2.000000   \n",
       "\n",
       "       Email_Campaign_Type  Total_Past_Communications  \\\n",
       "count        114331.000000              102816.000000   \n",
       "mean              2.270539                  28.892225   \n",
       "std               0.468056                  12.528849   \n",
       "min               1.000000                   0.000000   \n",
       "25%               2.000000                  20.000000   \n",
       "50%               2.000000                  28.000000   \n",
       "75%               3.000000                  38.000000   \n",
       "max               3.000000                  67.000000   \n",
       "\n",
       "       Time_Email_sent_Category     Word_Count   Total_Links   Total_Images  \n",
       "count             114331.000000  114331.000000  110707.00000  111561.000000  \n",
       "mean                   1.997945     701.350885      10.41291       3.535178  \n",
       "std                    0.631809     271.875965       6.39044       5.592399  \n",
       "min                    1.000000      40.000000       1.00000       0.000000  \n",
       "25%                    2.000000     521.000000       6.00000       0.000000  \n",
       "50%                    2.000000     694.000000       9.00000       0.000000  \n",
       "75%                    2.000000     880.000000      14.00000       5.000000  \n",
       "max                    3.000000    1316.000000      49.00000      47.000000  "
      ]
     },
     "execution_count": 6,
     "metadata": {},
     "output_type": "execute_result"
    }
   ],
   "source": [
    "allDF.describe()"
   ]
  },
  {
   "cell_type": "code",
   "execution_count": 7,
   "metadata": {
    "collapsed": false,
    "scrolled": true
   },
   "outputs": [
    {
     "data": {
      "text/plain": [
       "Index(['Email_Type', 'Subject_Hotness_Score', 'Email_Source_Type',\n",
       "       'Customer_Location', 'Email_Campaign_Type', 'Total_Past_Communications',\n",
       "       'Time_Email_sent_Category', 'Word_Count', 'Total_Links', 'Total_Images',\n",
       "       'tag'],\n",
       "      dtype='object')"
      ]
     },
     "execution_count": 7,
     "metadata": {},
     "output_type": "execute_result"
    }
   ],
   "source": [
    "allDF.columns"
   ]
  },
  {
   "cell_type": "code",
   "execution_count": 8,
   "metadata": {
    "collapsed": false
   },
   "outputs": [
    {
     "name": "stdout",
     "output_type": "stream",
     "text": [
      "Customer_Location - 19438\n",
      "Total_Past_Communications - 11515\n",
      "Total_Links - 3624\n",
      "Total_Images - 2770\n"
     ]
    }
   ],
   "source": [
    "#Check all the null values\n",
    "for col in allDF.columns:\n",
    "    if(allDF[col].isnull().sum() > 0):\n",
    "        print(col + ' - ' +str(allDF[col].isnull().sum()))"
   ]
  },
  {
   "cell_type": "code",
   "execution_count": 9,
   "metadata": {
    "collapsed": false
   },
   "outputs": [],
   "source": [
    "#Do processing on each coloumn to fill the NA's\n",
    "allDF['Customer_Location'].fillna('unknown', inplace=True)\n",
    "allDF['Total_Past_Communications'].fillna(allDF['Total_Past_Communications'].median(), inplace=True)\n",
    "allDF['Total_Links'].fillna(allDF['Total_Links'].median(), inplace=True)\n",
    "allDF['Total_Images'].fillna(0, inplace=True)"
   ]
  },
  {
   "cell_type": "code",
   "execution_count": 10,
   "metadata": {
    "collapsed": false
   },
   "outputs": [
    {
     "data": {
      "text/plain": [
       "Email_Type                     int64\n",
       "Subject_Hotness_Score        float64\n",
       "Email_Source_Type              int64\n",
       "Customer_Location             object\n",
       "Email_Campaign_Type            int64\n",
       "Total_Past_Communications    float64\n",
       "Time_Email_sent_Category       int64\n",
       "Word_Count                     int64\n",
       "Total_Links                  float64\n",
       "Total_Images                 float64\n",
       "tag                           object\n",
       "dtype: object"
      ]
     },
     "execution_count": 10,
     "metadata": {},
     "output_type": "execute_result"
    }
   ],
   "source": [
    "allDF.dtypes"
   ]
  },
  {
   "cell_type": "code",
   "execution_count": 11,
   "metadata": {
    "collapsed": true
   },
   "outputs": [],
   "source": [
    "col_to_drop = ['Email_Type','Email_Source_Type','Customer_Location','Email_Campaign_Type','Time_Email_sent_Category']"
   ]
  },
  {
   "cell_type": "code",
   "execution_count": 12,
   "metadata": {
    "collapsed": false
   },
   "outputs": [],
   "source": [
    "#Convert customer locatation to categorial.\n",
    "for col in col_to_drop:\n",
    "    dummyvar = pd.get_dummies(allDF[col],prefix=col)\n",
    "    allDF = pd.concat([allDF,dummyvar],axis=1)\n",
    "\n",
    "allDF = allDF.drop(col_to_drop, axis=1)"
   ]
  },
  {
   "cell_type": "code",
   "execution_count": 13,
   "metadata": {
    "collapsed": false
   },
   "outputs": [],
   "source": [
    "#Split, train and test data\n",
    "X_train = allDF[allDF['tag'] == 'train'].drop('tag',axis=1)\n",
    "y_train = target\n",
    "X_test = allDF[allDF['tag'] == 'test'].drop('tag',axis=1)"
   ]
  },
  {
   "cell_type": "code",
   "execution_count": 14,
   "metadata": {
    "collapsed": false
   },
   "outputs": [
    {
     "data": {
      "text/plain": [
       "(45978, 24)"
      ]
     },
     "execution_count": 14,
     "metadata": {},
     "output_type": "execute_result"
    }
   ],
   "source": [
    "X_test.shape"
   ]
  },
  {
   "cell_type": "code",
   "execution_count": 38,
   "metadata": {
    "collapsed": true
   },
   "outputs": [],
   "source": [
    "rfc = RandomForestClassifier(n_estimators=100,\n",
    "                             max_depth=5,\n",
    "                             max_features=5,\n",
    "                            max_leaf_nodes=2,\n",
    "                            min_samples_leaf=2,\n",
    "                            min_samples_split=2,\n",
    "                            random_state=10)"
   ]
  },
  {
   "cell_type": "code",
   "execution_count": 39,
   "metadata": {
    "collapsed": false
   },
   "outputs": [
    {
     "data": {
      "text/plain": [
       "RandomForestClassifier(bootstrap=True, class_weight=None, criterion='gini',\n",
       "            max_depth=5, max_features=5, max_leaf_nodes=2,\n",
       "            min_samples_leaf=2, min_samples_split=2,\n",
       "            min_weight_fraction_leaf=0.0, n_estimators=100, n_jobs=1,\n",
       "            oob_score=False, random_state=10, verbose=0, warm_start=False)"
      ]
     },
     "execution_count": 39,
     "metadata": {},
     "output_type": "execute_result"
    }
   ],
   "source": [
    "rfc.fit(X_train, y_train)"
   ]
  },
  {
   "cell_type": "code",
   "execution_count": 50,
   "metadata": {
    "collapsed": true
   },
   "outputs": [],
   "source": [
    "param_test1 = {'n_estimators':list(range(50,221,20)),\n",
    "              'max_depth':list(range(1,3,1)),\n",
    "               'min_samples_split':list(range(50,200,25))}"
   ]
  },
  {
   "cell_type": "code",
   "execution_count": 51,
   "metadata": {
    "collapsed": false
   },
   "outputs": [
    {
     "data": {
      "text/plain": [
       "([mean: 0.80378, std: 0.00005, params: {'n_estimators': 50, 'min_samples_split': 50, 'max_depth': 1},\n",
       "  mean: 0.80378, std: 0.00005, params: {'n_estimators': 70, 'min_samples_split': 50, 'max_depth': 1},\n",
       "  mean: 0.80378, std: 0.00005, params: {'n_estimators': 90, 'min_samples_split': 50, 'max_depth': 1},\n",
       "  mean: 0.80378, std: 0.00005, params: {'n_estimators': 110, 'min_samples_split': 50, 'max_depth': 1},\n",
       "  mean: 0.80378, std: 0.00005, params: {'n_estimators': 130, 'min_samples_split': 50, 'max_depth': 1},\n",
       "  mean: 0.80378, std: 0.00005, params: {'n_estimators': 150, 'min_samples_split': 50, 'max_depth': 1},\n",
       "  mean: 0.80378, std: 0.00005, params: {'n_estimators': 170, 'min_samples_split': 50, 'max_depth': 1},\n",
       "  mean: 0.80378, std: 0.00005, params: {'n_estimators': 190, 'min_samples_split': 50, 'max_depth': 1},\n",
       "  mean: 0.80378, std: 0.00005, params: {'n_estimators': 210, 'min_samples_split': 50, 'max_depth': 1},\n",
       "  mean: 0.80378, std: 0.00005, params: {'n_estimators': 50, 'min_samples_split': 75, 'max_depth': 1},\n",
       "  mean: 0.80378, std: 0.00005, params: {'n_estimators': 70, 'min_samples_split': 75, 'max_depth': 1},\n",
       "  mean: 0.80378, std: 0.00005, params: {'n_estimators': 90, 'min_samples_split': 75, 'max_depth': 1},\n",
       "  mean: 0.80378, std: 0.00005, params: {'n_estimators': 110, 'min_samples_split': 75, 'max_depth': 1},\n",
       "  mean: 0.80378, std: 0.00005, params: {'n_estimators': 130, 'min_samples_split': 75, 'max_depth': 1},\n",
       "  mean: 0.80378, std: 0.00005, params: {'n_estimators': 150, 'min_samples_split': 75, 'max_depth': 1},\n",
       "  mean: 0.80378, std: 0.00005, params: {'n_estimators': 170, 'min_samples_split': 75, 'max_depth': 1},\n",
       "  mean: 0.80378, std: 0.00005, params: {'n_estimators': 190, 'min_samples_split': 75, 'max_depth': 1},\n",
       "  mean: 0.80378, std: 0.00005, params: {'n_estimators': 210, 'min_samples_split': 75, 'max_depth': 1},\n",
       "  mean: 0.80378, std: 0.00005, params: {'n_estimators': 50, 'min_samples_split': 100, 'max_depth': 1},\n",
       "  mean: 0.80378, std: 0.00005, params: {'n_estimators': 70, 'min_samples_split': 100, 'max_depth': 1},\n",
       "  mean: 0.80378, std: 0.00005, params: {'n_estimators': 90, 'min_samples_split': 100, 'max_depth': 1},\n",
       "  mean: 0.80378, std: 0.00005, params: {'n_estimators': 110, 'min_samples_split': 100, 'max_depth': 1},\n",
       "  mean: 0.80378, std: 0.00005, params: {'n_estimators': 130, 'min_samples_split': 100, 'max_depth': 1},\n",
       "  mean: 0.80378, std: 0.00005, params: {'n_estimators': 150, 'min_samples_split': 100, 'max_depth': 1},\n",
       "  mean: 0.80378, std: 0.00005, params: {'n_estimators': 170, 'min_samples_split': 100, 'max_depth': 1},\n",
       "  mean: 0.80378, std: 0.00005, params: {'n_estimators': 190, 'min_samples_split': 100, 'max_depth': 1},\n",
       "  mean: 0.80378, std: 0.00005, params: {'n_estimators': 210, 'min_samples_split': 100, 'max_depth': 1},\n",
       "  mean: 0.80378, std: 0.00005, params: {'n_estimators': 50, 'min_samples_split': 125, 'max_depth': 1},\n",
       "  mean: 0.80378, std: 0.00005, params: {'n_estimators': 70, 'min_samples_split': 125, 'max_depth': 1},\n",
       "  mean: 0.80378, std: 0.00005, params: {'n_estimators': 90, 'min_samples_split': 125, 'max_depth': 1},\n",
       "  mean: 0.80378, std: 0.00005, params: {'n_estimators': 110, 'min_samples_split': 125, 'max_depth': 1},\n",
       "  mean: 0.80378, std: 0.00005, params: {'n_estimators': 130, 'min_samples_split': 125, 'max_depth': 1},\n",
       "  mean: 0.80378, std: 0.00005, params: {'n_estimators': 150, 'min_samples_split': 125, 'max_depth': 1},\n",
       "  mean: 0.80378, std: 0.00005, params: {'n_estimators': 170, 'min_samples_split': 125, 'max_depth': 1},\n",
       "  mean: 0.80378, std: 0.00005, params: {'n_estimators': 190, 'min_samples_split': 125, 'max_depth': 1},\n",
       "  mean: 0.80378, std: 0.00005, params: {'n_estimators': 210, 'min_samples_split': 125, 'max_depth': 1},\n",
       "  mean: 0.80378, std: 0.00005, params: {'n_estimators': 50, 'min_samples_split': 150, 'max_depth': 1},\n",
       "  mean: 0.80378, std: 0.00005, params: {'n_estimators': 70, 'min_samples_split': 150, 'max_depth': 1},\n",
       "  mean: 0.80378, std: 0.00005, params: {'n_estimators': 90, 'min_samples_split': 150, 'max_depth': 1},\n",
       "  mean: 0.80378, std: 0.00005, params: {'n_estimators': 110, 'min_samples_split': 150, 'max_depth': 1},\n",
       "  mean: 0.80378, std: 0.00005, params: {'n_estimators': 130, 'min_samples_split': 150, 'max_depth': 1},\n",
       "  mean: 0.80378, std: 0.00005, params: {'n_estimators': 150, 'min_samples_split': 150, 'max_depth': 1},\n",
       "  mean: 0.80378, std: 0.00005, params: {'n_estimators': 170, 'min_samples_split': 150, 'max_depth': 1},\n",
       "  mean: 0.80378, std: 0.00005, params: {'n_estimators': 190, 'min_samples_split': 150, 'max_depth': 1},\n",
       "  mean: 0.80378, std: 0.00005, params: {'n_estimators': 210, 'min_samples_split': 150, 'max_depth': 1},\n",
       "  mean: 0.80378, std: 0.00005, params: {'n_estimators': 50, 'min_samples_split': 175, 'max_depth': 1},\n",
       "  mean: 0.80378, std: 0.00005, params: {'n_estimators': 70, 'min_samples_split': 175, 'max_depth': 1},\n",
       "  mean: 0.80378, std: 0.00005, params: {'n_estimators': 90, 'min_samples_split': 175, 'max_depth': 1},\n",
       "  mean: 0.80378, std: 0.00005, params: {'n_estimators': 110, 'min_samples_split': 175, 'max_depth': 1},\n",
       "  mean: 0.80378, std: 0.00005, params: {'n_estimators': 130, 'min_samples_split': 175, 'max_depth': 1},\n",
       "  mean: 0.80378, std: 0.00005, params: {'n_estimators': 150, 'min_samples_split': 175, 'max_depth': 1},\n",
       "  mean: 0.80378, std: 0.00005, params: {'n_estimators': 170, 'min_samples_split': 175, 'max_depth': 1},\n",
       "  mean: 0.80378, std: 0.00005, params: {'n_estimators': 190, 'min_samples_split': 175, 'max_depth': 1},\n",
       "  mean: 0.80378, std: 0.00005, params: {'n_estimators': 210, 'min_samples_split': 175, 'max_depth': 1},\n",
       "  mean: 0.80378, std: 0.00005, params: {'n_estimators': 50, 'min_samples_split': 50, 'max_depth': 2},\n",
       "  mean: 0.80378, std: 0.00005, params: {'n_estimators': 70, 'min_samples_split': 50, 'max_depth': 2},\n",
       "  mean: 0.80378, std: 0.00005, params: {'n_estimators': 90, 'min_samples_split': 50, 'max_depth': 2},\n",
       "  mean: 0.80378, std: 0.00005, params: {'n_estimators': 110, 'min_samples_split': 50, 'max_depth': 2},\n",
       "  mean: 0.80378, std: 0.00005, params: {'n_estimators': 130, 'min_samples_split': 50, 'max_depth': 2},\n",
       "  mean: 0.80378, std: 0.00005, params: {'n_estimators': 150, 'min_samples_split': 50, 'max_depth': 2},\n",
       "  mean: 0.80378, std: 0.00005, params: {'n_estimators': 170, 'min_samples_split': 50, 'max_depth': 2},\n",
       "  mean: 0.80378, std: 0.00005, params: {'n_estimators': 190, 'min_samples_split': 50, 'max_depth': 2},\n",
       "  mean: 0.80378, std: 0.00005, params: {'n_estimators': 210, 'min_samples_split': 50, 'max_depth': 2},\n",
       "  mean: 0.80378, std: 0.00005, params: {'n_estimators': 50, 'min_samples_split': 75, 'max_depth': 2},\n",
       "  mean: 0.80378, std: 0.00005, params: {'n_estimators': 70, 'min_samples_split': 75, 'max_depth': 2},\n",
       "  mean: 0.80378, std: 0.00005, params: {'n_estimators': 90, 'min_samples_split': 75, 'max_depth': 2},\n",
       "  mean: 0.80378, std: 0.00005, params: {'n_estimators': 110, 'min_samples_split': 75, 'max_depth': 2},\n",
       "  mean: 0.80378, std: 0.00005, params: {'n_estimators': 130, 'min_samples_split': 75, 'max_depth': 2},\n",
       "  mean: 0.80378, std: 0.00005, params: {'n_estimators': 150, 'min_samples_split': 75, 'max_depth': 2},\n",
       "  mean: 0.80378, std: 0.00005, params: {'n_estimators': 170, 'min_samples_split': 75, 'max_depth': 2},\n",
       "  mean: 0.80378, std: 0.00005, params: {'n_estimators': 190, 'min_samples_split': 75, 'max_depth': 2},\n",
       "  mean: 0.80378, std: 0.00005, params: {'n_estimators': 210, 'min_samples_split': 75, 'max_depth': 2},\n",
       "  mean: 0.80378, std: 0.00005, params: {'n_estimators': 50, 'min_samples_split': 100, 'max_depth': 2},\n",
       "  mean: 0.80378, std: 0.00005, params: {'n_estimators': 70, 'min_samples_split': 100, 'max_depth': 2},\n",
       "  mean: 0.80378, std: 0.00005, params: {'n_estimators': 90, 'min_samples_split': 100, 'max_depth': 2},\n",
       "  mean: 0.80378, std: 0.00005, params: {'n_estimators': 110, 'min_samples_split': 100, 'max_depth': 2},\n",
       "  mean: 0.80378, std: 0.00005, params: {'n_estimators': 130, 'min_samples_split': 100, 'max_depth': 2},\n",
       "  mean: 0.80378, std: 0.00005, params: {'n_estimators': 150, 'min_samples_split': 100, 'max_depth': 2},\n",
       "  mean: 0.80378, std: 0.00005, params: {'n_estimators': 170, 'min_samples_split': 100, 'max_depth': 2},\n",
       "  mean: 0.80378, std: 0.00005, params: {'n_estimators': 190, 'min_samples_split': 100, 'max_depth': 2},\n",
       "  mean: 0.80378, std: 0.00005, params: {'n_estimators': 210, 'min_samples_split': 100, 'max_depth': 2},\n",
       "  mean: 0.80378, std: 0.00005, params: {'n_estimators': 50, 'min_samples_split': 125, 'max_depth': 2},\n",
       "  mean: 0.80378, std: 0.00005, params: {'n_estimators': 70, 'min_samples_split': 125, 'max_depth': 2},\n",
       "  mean: 0.80378, std: 0.00005, params: {'n_estimators': 90, 'min_samples_split': 125, 'max_depth': 2},\n",
       "  mean: 0.80378, std: 0.00005, params: {'n_estimators': 110, 'min_samples_split': 125, 'max_depth': 2},\n",
       "  mean: 0.80378, std: 0.00005, params: {'n_estimators': 130, 'min_samples_split': 125, 'max_depth': 2},\n",
       "  mean: 0.80378, std: 0.00005, params: {'n_estimators': 150, 'min_samples_split': 125, 'max_depth': 2},\n",
       "  mean: 0.80378, std: 0.00005, params: {'n_estimators': 170, 'min_samples_split': 125, 'max_depth': 2},\n",
       "  mean: 0.80378, std: 0.00005, params: {'n_estimators': 190, 'min_samples_split': 125, 'max_depth': 2},\n",
       "  mean: 0.80378, std: 0.00005, params: {'n_estimators': 210, 'min_samples_split': 125, 'max_depth': 2},\n",
       "  mean: 0.80378, std: 0.00005, params: {'n_estimators': 50, 'min_samples_split': 150, 'max_depth': 2},\n",
       "  mean: 0.80378, std: 0.00005, params: {'n_estimators': 70, 'min_samples_split': 150, 'max_depth': 2},\n",
       "  mean: 0.80378, std: 0.00005, params: {'n_estimators': 90, 'min_samples_split': 150, 'max_depth': 2},\n",
       "  mean: 0.80378, std: 0.00005, params: {'n_estimators': 110, 'min_samples_split': 150, 'max_depth': 2},\n",
       "  mean: 0.80378, std: 0.00005, params: {'n_estimators': 130, 'min_samples_split': 150, 'max_depth': 2},\n",
       "  mean: 0.80378, std: 0.00005, params: {'n_estimators': 150, 'min_samples_split': 150, 'max_depth': 2},\n",
       "  mean: 0.80378, std: 0.00005, params: {'n_estimators': 170, 'min_samples_split': 150, 'max_depth': 2},\n",
       "  mean: 0.80378, std: 0.00005, params: {'n_estimators': 190, 'min_samples_split': 150, 'max_depth': 2},\n",
       "  mean: 0.80378, std: 0.00005, params: {'n_estimators': 210, 'min_samples_split': 150, 'max_depth': 2},\n",
       "  mean: 0.80378, std: 0.00005, params: {'n_estimators': 50, 'min_samples_split': 175, 'max_depth': 2},\n",
       "  mean: 0.80378, std: 0.00005, params: {'n_estimators': 70, 'min_samples_split': 175, 'max_depth': 2},\n",
       "  mean: 0.80378, std: 0.00005, params: {'n_estimators': 90, 'min_samples_split': 175, 'max_depth': 2},\n",
       "  mean: 0.80378, std: 0.00005, params: {'n_estimators': 110, 'min_samples_split': 175, 'max_depth': 2},\n",
       "  mean: 0.80378, std: 0.00005, params: {'n_estimators': 130, 'min_samples_split': 175, 'max_depth': 2},\n",
       "  mean: 0.80378, std: 0.00005, params: {'n_estimators': 150, 'min_samples_split': 175, 'max_depth': 2},\n",
       "  mean: 0.80378, std: 0.00005, params: {'n_estimators': 170, 'min_samples_split': 175, 'max_depth': 2},\n",
       "  mean: 0.80378, std: 0.00005, params: {'n_estimators': 190, 'min_samples_split': 175, 'max_depth': 2},\n",
       "  mean: 0.80378, std: 0.00005, params: {'n_estimators': 210, 'min_samples_split': 175, 'max_depth': 2}],\n",
       " {'max_depth': 1, 'min_samples_split': 50, 'n_estimators': 50},\n",
       " 0.80378330436620649,\n",
       " RandomForestClassifier(bootstrap=True, class_weight=None, criterion='gini',\n",
       "             max_depth=1, max_features=5, max_leaf_nodes=2,\n",
       "             min_samples_leaf=2, min_samples_split=50,\n",
       "             min_weight_fraction_leaf=0.0, n_estimators=50, n_jobs=1,\n",
       "             oob_score=False, random_state=10, verbose=0, warm_start=False))"
      ]
     },
     "execution_count": 51,
     "metadata": {},
     "output_type": "execute_result"
    }
   ],
   "source": [
    "gsearch1 = GridSearchCV(estimator = rfc, param_grid = param_test1, scoring='accuracy',n_jobs=4,iid=False, cv=5)\n",
    "gsearch1.fit(X_train,y_train)\n",
    "gsearch1.grid_scores_, gsearch1.best_params_, gsearch1.best_score_, gsearch1.best_estimator_"
   ]
  },
  {
   "cell_type": "code",
   "execution_count": 40,
   "metadata": {
    "collapsed": false
   },
   "outputs": [
    {
     "data": {
      "text/plain": [
       "array([ 0.06,  0.3 ,  0.04,  0.04,  0.06,  0.03,  0.05,  0.03,  0.01,\n",
       "        0.  ,  0.01,  0.  ,  0.  ,  0.01,  0.  ,  0.  ,  0.  ,  0.  ,\n",
       "        0.06,  0.2 ,  0.1 ,  0.  ,  0.  ,  0.  ])"
      ]
     },
     "execution_count": 40,
     "metadata": {},
     "output_type": "execute_result"
    }
   ],
   "source": [
    "rfc.feature_importances_"
   ]
  },
  {
   "cell_type": "code",
   "execution_count": 41,
   "metadata": {
    "collapsed": false
   },
   "outputs": [
    {
     "data": {
      "text/plain": [
       "0.80378330436620649"
      ]
     },
     "execution_count": 41,
     "metadata": {},
     "output_type": "execute_result"
    }
   ],
   "source": [
    "cv_score = cross_validation.cross_val_score(rfc, X_train, y_train, cv=5, scoring='accuracy')\n",
    "cv_score.mean()"
   ]
  },
  {
   "cell_type": "code",
   "execution_count": 36,
   "metadata": {
    "collapsed": false
   },
   "outputs": [
    {
     "data": {
      "text/plain": [
       "0.80455867684754045"
      ]
     },
     "execution_count": 36,
     "metadata": {},
     "output_type": "execute_result"
    }
   ],
   "source": []
  },
  {
   "cell_type": "code",
   "execution_count": 22,
   "metadata": {
    "collapsed": false
   },
   "outputs": [],
   "source": [
    "status = rfc.predict(X_test)"
   ]
  },
  {
   "cell_type": "code",
   "execution_count": 23,
   "metadata": {
    "collapsed": true
   },
   "outputs": [],
   "source": [
    "submission = pd.DataFrame()"
   ]
  },
  {
   "cell_type": "code",
   "execution_count": 24,
   "metadata": {
    "collapsed": false
   },
   "outputs": [
    {
     "data": {
      "text/plain": [
       "array([1, 0, 0, ..., 0, 0, 0], dtype=int64)"
      ]
     },
     "execution_count": 24,
     "metadata": {},
     "output_type": "execute_result"
    }
   ],
   "source": [
    "status"
   ]
  },
  {
   "cell_type": "code",
   "execution_count": 25,
   "metadata": {
    "collapsed": false
   },
   "outputs": [],
   "source": [
    "submission['Email_ID'] = emailids\n",
    "submission['Email_Status'] = status"
   ]
  },
  {
   "cell_type": "code",
   "execution_count": 26,
   "metadata": {
    "collapsed": false
   },
   "outputs": [],
   "source": [
    "submission.to_csv('rf1.csv', index=False)"
   ]
  }
 ],
 "metadata": {
  "kernelspec": {
   "display_name": "Python 3",
   "language": "python",
   "name": "python3"
  },
  "language_info": {
   "codemirror_mode": {
    "name": "ipython",
    "version": 3
   },
   "file_extension": ".py",
   "mimetype": "text/x-python",
   "name": "python",
   "nbconvert_exporter": "python",
   "pygments_lexer": "ipython3",
   "version": "3.5.1"
  }
 },
 "nbformat": 4,
 "nbformat_minor": 0
}
