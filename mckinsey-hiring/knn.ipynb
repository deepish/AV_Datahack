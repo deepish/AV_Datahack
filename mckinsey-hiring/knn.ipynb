{
 "cells": [
  {
   "cell_type": "code",
   "execution_count": 1,
   "metadata": {
    "collapsed": true
   },
   "outputs": [],
   "source": [
    "import pandas as pd\n",
    "import numpy as np\n",
    "\n",
    "from sklearn.neighbors import KNeighborsClassifier\n",
    "\n",
    "from sklearn import cross_validation, metrics\n",
    "from sklearn.grid_search import GridSearchCV\n",
    "\n",
    "%matplotlib inline\n",
    "import matplotlib.pyplot as plt\n",
    "import seaborn as sns"
   ]
  },
  {
   "cell_type": "code",
   "execution_count": 2,
   "metadata": {
    "collapsed": true
   },
   "outputs": [],
   "source": [
    "trainDF = pd.read_csv('data/Train_psolI3n.csv')\n",
    "testDF = pd.read_csv('data/Test_09JmpYa.csv')"
   ]
  },
  {
   "cell_type": "code",
   "execution_count": 3,
   "metadata": {
    "collapsed": false
   },
   "outputs": [
    {
     "data": {
      "text/plain": [
       "0    0.803783\n",
       "1    0.161500\n",
       "2    0.034717\n",
       "Name: Email_Status, dtype: float64"
      ]
     },
     "execution_count": 3,
     "metadata": {},
     "output_type": "execute_result"
    }
   ],
   "source": [
    "#Check the percentage of email status\n",
    "trainDF['Email_Status'].value_counts() /trainDF['Email_Status'].size"
   ]
  },
  {
   "cell_type": "code",
   "execution_count": 4,
   "metadata": {
    "collapsed": false
   },
   "outputs": [],
   "source": [
    "target = trainDF['Email_Status']\n",
    "emailids = testDF['Email_ID']\n",
    "\n",
    "#Do the tagging for train and test\n",
    "trainDF['tag'] = 'train'\n",
    "testDF['tag'] = 'test'\n",
    "\n",
    "trainDF = trainDF.drop(['Email_ID','Email_Status'], axis=1)\n",
    "testDF = testDF.drop('Email_ID',axis=1)"
   ]
  },
  {
   "cell_type": "code",
   "execution_count": 5,
   "metadata": {
    "collapsed": false
   },
   "outputs": [],
   "source": [
    "#Merge all the data for processing\n",
    "allDF = pd.concat([trainDF,testDF],ignore_index=True)"
   ]
  },
  {
   "cell_type": "code",
   "execution_count": 6,
   "metadata": {
    "collapsed": false
   },
   "outputs": [
    {
     "data": {
      "text/html": [
       "<div>\n",
       "<table border=\"1\" class=\"dataframe\">\n",
       "  <thead>\n",
       "    <tr style=\"text-align: right;\">\n",
       "      <th></th>\n",
       "      <th>Email_Type</th>\n",
       "      <th>Subject_Hotness_Score</th>\n",
       "      <th>Email_Source_Type</th>\n",
       "      <th>Email_Campaign_Type</th>\n",
       "      <th>Total_Past_Communications</th>\n",
       "      <th>Time_Email_sent_Category</th>\n",
       "      <th>Word_Count</th>\n",
       "      <th>Total_Links</th>\n",
       "      <th>Total_Images</th>\n",
       "    </tr>\n",
       "  </thead>\n",
       "  <tbody>\n",
       "    <tr>\n",
       "      <th>count</th>\n",
       "      <td>114331.000000</td>\n",
       "      <td>114331.000000</td>\n",
       "      <td>114331.000000</td>\n",
       "      <td>114331.000000</td>\n",
       "      <td>102816.000000</td>\n",
       "      <td>114331.000000</td>\n",
       "      <td>114331.000000</td>\n",
       "      <td>110707.00000</td>\n",
       "      <td>111561.000000</td>\n",
       "    </tr>\n",
       "    <tr>\n",
       "      <th>mean</th>\n",
       "      <td>1.284096</td>\n",
       "      <td>1.095876</td>\n",
       "      <td>1.456928</td>\n",
       "      <td>2.270539</td>\n",
       "      <td>28.892225</td>\n",
       "      <td>1.997945</td>\n",
       "      <td>701.350885</td>\n",
       "      <td>10.41291</td>\n",
       "      <td>3.535178</td>\n",
       "    </tr>\n",
       "    <tr>\n",
       "      <th>std</th>\n",
       "      <td>0.450985</td>\n",
       "      <td>0.996247</td>\n",
       "      <td>0.498144</td>\n",
       "      <td>0.468056</td>\n",
       "      <td>12.528849</td>\n",
       "      <td>0.631809</td>\n",
       "      <td>271.875965</td>\n",
       "      <td>6.39044</td>\n",
       "      <td>5.592399</td>\n",
       "    </tr>\n",
       "    <tr>\n",
       "      <th>min</th>\n",
       "      <td>1.000000</td>\n",
       "      <td>0.000000</td>\n",
       "      <td>1.000000</td>\n",
       "      <td>1.000000</td>\n",
       "      <td>0.000000</td>\n",
       "      <td>1.000000</td>\n",
       "      <td>40.000000</td>\n",
       "      <td>1.00000</td>\n",
       "      <td>0.000000</td>\n",
       "    </tr>\n",
       "    <tr>\n",
       "      <th>25%</th>\n",
       "      <td>1.000000</td>\n",
       "      <td>0.200000</td>\n",
       "      <td>1.000000</td>\n",
       "      <td>2.000000</td>\n",
       "      <td>20.000000</td>\n",
       "      <td>2.000000</td>\n",
       "      <td>521.000000</td>\n",
       "      <td>6.00000</td>\n",
       "      <td>0.000000</td>\n",
       "    </tr>\n",
       "    <tr>\n",
       "      <th>50%</th>\n",
       "      <td>1.000000</td>\n",
       "      <td>0.800000</td>\n",
       "      <td>1.000000</td>\n",
       "      <td>2.000000</td>\n",
       "      <td>28.000000</td>\n",
       "      <td>2.000000</td>\n",
       "      <td>694.000000</td>\n",
       "      <td>9.00000</td>\n",
       "      <td>0.000000</td>\n",
       "    </tr>\n",
       "    <tr>\n",
       "      <th>75%</th>\n",
       "      <td>2.000000</td>\n",
       "      <td>1.800000</td>\n",
       "      <td>2.000000</td>\n",
       "      <td>3.000000</td>\n",
       "      <td>38.000000</td>\n",
       "      <td>2.000000</td>\n",
       "      <td>880.000000</td>\n",
       "      <td>14.00000</td>\n",
       "      <td>5.000000</td>\n",
       "    </tr>\n",
       "    <tr>\n",
       "      <th>max</th>\n",
       "      <td>2.000000</td>\n",
       "      <td>5.000000</td>\n",
       "      <td>2.000000</td>\n",
       "      <td>3.000000</td>\n",
       "      <td>67.000000</td>\n",
       "      <td>3.000000</td>\n",
       "      <td>1316.000000</td>\n",
       "      <td>49.00000</td>\n",
       "      <td>47.000000</td>\n",
       "    </tr>\n",
       "  </tbody>\n",
       "</table>\n",
       "</div>"
      ],
      "text/plain": [
       "          Email_Type  Subject_Hotness_Score  Email_Source_Type  \\\n",
       "count  114331.000000          114331.000000      114331.000000   \n",
       "mean        1.284096               1.095876           1.456928   \n",
       "std         0.450985               0.996247           0.498144   \n",
       "min         1.000000               0.000000           1.000000   \n",
       "25%         1.000000               0.200000           1.000000   \n",
       "50%         1.000000               0.800000           1.000000   \n",
       "75%         2.000000               1.800000           2.000000   \n",
       "max         2.000000               5.000000           2.000000   \n",
       "\n",
       "       Email_Campaign_Type  Total_Past_Communications  \\\n",
       "count        114331.000000              102816.000000   \n",
       "mean              2.270539                  28.892225   \n",
       "std               0.468056                  12.528849   \n",
       "min               1.000000                   0.000000   \n",
       "25%               2.000000                  20.000000   \n",
       "50%               2.000000                  28.000000   \n",
       "75%               3.000000                  38.000000   \n",
       "max               3.000000                  67.000000   \n",
       "\n",
       "       Time_Email_sent_Category     Word_Count   Total_Links   Total_Images  \n",
       "count             114331.000000  114331.000000  110707.00000  111561.000000  \n",
       "mean                   1.997945     701.350885      10.41291       3.535178  \n",
       "std                    0.631809     271.875965       6.39044       5.592399  \n",
       "min                    1.000000      40.000000       1.00000       0.000000  \n",
       "25%                    2.000000     521.000000       6.00000       0.000000  \n",
       "50%                    2.000000     694.000000       9.00000       0.000000  \n",
       "75%                    2.000000     880.000000      14.00000       5.000000  \n",
       "max                    3.000000    1316.000000      49.00000      47.000000  "
      ]
     },
     "execution_count": 6,
     "metadata": {},
     "output_type": "execute_result"
    }
   ],
   "source": [
    "allDF.describe()"
   ]
  },
  {
   "cell_type": "code",
   "execution_count": 7,
   "metadata": {
    "collapsed": false,
    "scrolled": true
   },
   "outputs": [
    {
     "data": {
      "text/plain": [
       "Index(['Email_Type', 'Subject_Hotness_Score', 'Email_Source_Type',\n",
       "       'Customer_Location', 'Email_Campaign_Type', 'Total_Past_Communications',\n",
       "       'Time_Email_sent_Category', 'Word_Count', 'Total_Links', 'Total_Images',\n",
       "       'tag'],\n",
       "      dtype='object')"
      ]
     },
     "execution_count": 7,
     "metadata": {},
     "output_type": "execute_result"
    }
   ],
   "source": [
    "allDF.columns"
   ]
  },
  {
   "cell_type": "code",
   "execution_count": 8,
   "metadata": {
    "collapsed": false
   },
   "outputs": [
    {
     "name": "stdout",
     "output_type": "stream",
     "text": [
      "Customer_Location - 19438\n",
      "Total_Past_Communications - 11515\n",
      "Total_Links - 3624\n",
      "Total_Images - 2770\n"
     ]
    }
   ],
   "source": [
    "#Check all the null values\n",
    "for col in allDF.columns:\n",
    "    if(allDF[col].isnull().sum() > 0):\n",
    "        print(col + ' - ' +str(allDF[col].isnull().sum()))"
   ]
  },
  {
   "cell_type": "code",
   "execution_count": 10,
   "metadata": {
    "collapsed": false
   },
   "outputs": [],
   "source": [
    "#Do processing on each coloumn to fill the NA's\n",
    "allDF['Customer_Location'].fillna('unknown', inplace=True)\n",
    "allDF['Total_Past_Communications'].fillna(allDF['Total_Past_Communications'].median(), inplace=True)\n",
    "allDF['Total_Links'].fillna(allDF['Total_Links'].median(), inplace=True)\n",
    "allDF['Total_Images'].fillna(0, inplace=True)"
   ]
  },
  {
   "cell_type": "code",
   "execution_count": 11,
   "metadata": {
    "collapsed": false
   },
   "outputs": [
    {
     "data": {
      "text/plain": [
       "<matplotlib.axes._subplots.AxesSubplot at 0xb5126f0d68>"
      ]
     },
     "execution_count": 11,
     "metadata": {},
     "output_type": "execute_result"
    },
    {
     "data": {
      "image/png": "[encoded data removed]",
      "text/plain": [
       "<matplotlib.figure.Figure at 0xb50c795668>"
      ]
     },
     "metadata": {},
     "output_type": "display_data"
    }
   ],
   "source": [
    "sns.heatmap(allDF.corr())"
   ]
  },
  {
   "cell_type": "code",
   "execution_count": 12,
   "metadata": {
    "collapsed": true
   },
   "outputs": [],
   "source": [
    "col_to_drop = ['Email_Type','Email_Source_Type','Customer_Location','Email_Campaign_Type','Time_Email_sent_Category']\n",
    "drop_cols_overfitting = ['Total_Links']"
   ]
  },
  {
   "cell_type": "code",
   "execution_count": 13,
   "metadata": {
    "collapsed": false
   },
   "outputs": [],
   "source": [
    "#Convert customer locatation to categorial.\n",
    "for col in col_to_drop:\n",
    "    dummyvar = pd.get_dummies(allDF[col],prefix=col)\n",
    "    allDF = pd.concat([allDF,dummyvar],axis=1)\n",
    "\n",
    "allDF = allDF.drop(col_to_drop, axis=1)\n",
    "allDF = allDF.drop(drop_cols_overfitting, axis=1)"
   ]
  },
  {
   "cell_type": "code",
   "execution_count": 14,
   "metadata": {
    "collapsed": false
   },
   "outputs": [
    {
     "data": {
      "text/plain": [
       "Index(['Subject_Hotness_Score', 'Total_Past_Communications', 'Word_Count',\n",
       "       'Total_Images', 'tag', 'Email_Type_1', 'Email_Type_2',\n",
       "       'Email_Source_Type_1', 'Email_Source_Type_2', 'Customer_Location_A',\n",
       "       'Customer_Location_B', 'Customer_Location_C', 'Customer_Location_D',\n",
       "       'Customer_Location_E', 'Customer_Location_F', 'Customer_Location_G',\n",
       "       'Customer_Location_H', 'Customer_Location_unknown',\n",
       "       'Email_Campaign_Type_1', 'Email_Campaign_Type_2',\n",
       "       'Email_Campaign_Type_3', 'Time_Email_sent_Category_1',\n",
       "       'Time_Email_sent_Category_2', 'Time_Email_sent_Category_3'],\n",
       "      dtype='object')"
      ]
     },
     "execution_count": 14,
     "metadata": {},
     "output_type": "execute_result"
    }
   ],
   "source": [
    "allDF.columns"
   ]
  },
  {
   "cell_type": "code",
   "execution_count": 15,
   "metadata": {
    "collapsed": false
   },
   "outputs": [],
   "source": [
    "#Split, train and test data\n",
    "X_train = allDF[allDF['tag'] == 'train'].drop('tag',axis=1)\n",
    "y_train = target\n",
    "X_test = allDF[allDF['tag'] == 'test'].drop('tag',axis=1)"
   ]
  },
  {
   "cell_type": "code",
   "execution_count": 16,
   "metadata": {
    "collapsed": false
   },
   "outputs": [
    {
     "data": {
      "text/plain": [
       "(45978, 23)"
      ]
     },
     "execution_count": 16,
     "metadata": {},
     "output_type": "execute_result"
    }
   ],
   "source": [
    "X_test.shape"
   ]
  },
  {
   "cell_type": "code",
   "execution_count": 32,
   "metadata": {
    "collapsed": true
   },
   "outputs": [],
   "source": [
    "def modelfit(alg, X_train, y_train, useTrainCV=True, cv_folds=5):\n",
    "    \n",
    "    if useTrainCV:\n",
    "        cv_score = cross_validation.cross_val_score(alg, X_train, y_train, cv=5, scoring='accuracy')\n",
    "        print(cv_score.mean())\n",
    "        #print('estimaters : '+str(cv_score.shape[0]))\n",
    "        #alg.set_params(n_estimators=cv_score.shape[0])\n",
    "    \n",
    "    #Fit the algorithm on the data\n",
    "    alg.fit(X_train, y_train)\n",
    "        \n",
    "    #Predict training set:\n",
    "    dtrain_predictions = alg.predict(X_train)\n",
    "        \n",
    "    #Print model report:\n",
    "    print(\"\\nModel Report\")\n",
    "    print(\"Accuracy : %.4g\" % metrics.accuracy_score(y_train.values, dtrain_predictions))\n",
    "    print(\"Confusion matrix:\")\n",
    "    print(metrics.confusion_matrix(y_train.values, dtrain_predictions,labels=[0,1,2]))\n",
    "    #feat_imp = pd.Series(alg.booster().get_fscore()).sort_values(ascending=False)\n",
    "    #feat_imp.plot(kind='bar', title='Feature Importances')\n",
    "    #plt.ylabel('Feature Importance Score')"
   ]
  },
  {
   "cell_type": "code",
   "execution_count": 37,
   "metadata": {
    "collapsed": false
   },
   "outputs": [],
   "source": [
    "knn = KNeighborsClassifier(n_neighbors=14)"
   ]
  },
  {
   "cell_type": "code",
   "execution_count": 38,
   "metadata": {
    "collapsed": false
   },
   "outputs": [
    {
     "name": "stdout",
     "output_type": "stream",
     "text": [
      "0.802773845858\n",
      "\n",
      "Model Report\n",
      "Accuracy : 0.8159\n",
      "Confusion matrix:\n",
      "[[54106   824    11]\n",
      " [ 9392  1626    21]\n",
      " [ 2013   321    39]]\n"
     ]
    }
   ],
   "source": [
    "modelfit(knn,X_train,y_train)"
   ]
  },
  {
   "cell_type": "code",
   "execution_count": null,
   "metadata": {
    "collapsed": false
   },
   "outputs": [],
   "source": []
  },
  {
   "cell_type": "code",
   "execution_count": 36,
   "metadata": {
    "collapsed": false
   },
   "outputs": [
    {
     "data": {
      "text/plain": [
       "([mean: 0.80048, std: 0.00168, params: {'n_neighbors': 11},\n",
       "  mean: 0.80266, std: 0.00077, params: {'n_neighbors': 12},\n",
       "  mean: 0.80175, std: 0.00090, params: {'n_neighbors': 13},\n",
       "  mean: 0.80277, std: 0.00092, params: {'n_neighbors': 14},\n",
       "  mean: 0.80217, std: 0.00114, params: {'n_neighbors': 15},\n",
       "  mean: 0.80270, std: 0.00090, params: {'n_neighbors': 16},\n",
       "  mean: 0.80247, std: 0.00109, params: {'n_neighbors': 17},\n",
       "  mean: 0.80261, std: 0.00124, params: {'n_neighbors': 18}],\n",
       " {'n_neighbors': 14},\n",
       " 0.80277384585768785)"
      ]
     },
     "execution_count": 36,
     "metadata": {},
     "output_type": "execute_result"
    }
   ],
   "source": [
    "param_test1 = {\n",
    " 'n_neighbors': list(range(11,19,1))\n",
    "}\n",
    "gsearch1 = GridSearchCV(estimator = knn, \n",
    " param_grid = param_test1, scoring='accuracy',n_jobs=4,iid=False, cv=5)\n",
    "gsearch1.fit(X_train,y_train)\n",
    "gsearch1.grid_scores_, gsearch1.best_params_, gsearch1.best_score_"
   ]
  },
  {
   "cell_type": "code",
   "execution_count": null,
   "metadata": {
    "collapsed": true
   },
   "outputs": [],
   "source": []
  },
  {
   "cell_type": "code",
   "execution_count": 39,
   "metadata": {
    "collapsed": false
   },
   "outputs": [],
   "source": [
    "status = knn.predict(X_test)"
   ]
  },
  {
   "cell_type": "code",
   "execution_count": 40,
   "metadata": {
    "collapsed": true
   },
   "outputs": [],
   "source": [
    "submission = pd.DataFrame()"
   ]
  },
  {
   "cell_type": "code",
   "execution_count": 41,
   "metadata": {
    "collapsed": false
   },
   "outputs": [
    {
     "data": {
      "text/plain": [
       "array([0, 0, 0, ..., 0, 0, 0], dtype=int64)"
      ]
     },
     "execution_count": 41,
     "metadata": {},
     "output_type": "execute_result"
    }
   ],
   "source": [
    "status"
   ]
  },
  {
   "cell_type": "code",
   "execution_count": 42,
   "metadata": {
    "collapsed": false
   },
   "outputs": [],
   "source": [
    "submission['Email_ID'] = emailids\n",
    "submission['Email_Status'] = status"
   ]
  },
  {
   "cell_type": "code",
   "execution_count": 43,
   "metadata": {
    "collapsed": false
   },
   "outputs": [],
   "source": [
    "submission.to_csv('knn1.csv', index=False)"
   ]
  }
 ],
 "metadata": {
  "kernelspec": {
   "display_name": "Python 3",
   "language": "python",
   "name": "python3"
  },
  "language_info": {
   "codemirror_mode": {
    "name": "ipython",
    "version": 3
   },
   "file_extension": ".py",
   "mimetype": "text/x-python",
   "name": "python",
   "nbconvert_exporter": "python",
   "pygments_lexer": "ipython3",
   "version": "3.5.1"
  }
 },
 "nbformat": 4,
 "nbformat_minor": 0
}
