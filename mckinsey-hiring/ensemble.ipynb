{
 "cells": [
  {
   "cell_type": "code",
   "execution_count": 1,
   "metadata": {
    "collapsed": true
   },
   "outputs": [],
   "source": [
    "import pandas as pd\n",
    "import numpy as np\n",
    "\n",
    "import xgboost as xgb\n",
    "from xgboost.sklearn import XGBClassifier\n",
    "\n",
    "from sklearn.ensemble import GradientBoostingClassifier\n",
    "from sklearn.neighbors import KNeighborsClassifier\n",
    "\n",
    "from sklearn import cross_validation, metrics\n",
    "from sklearn.grid_search import GridSearchCV\n",
    "\n",
    "%matplotlib inline\n",
    "import matplotlib.pyplot as plt\n",
    "import seaborn as sns"
   ]
  },
  {
   "cell_type": "code",
   "execution_count": 2,
   "metadata": {
    "collapsed": true
   },
   "outputs": [],
   "source": [
    "trainDF = pd.read_csv('data/Train_psolI3n.csv')\n",
    "testDF = pd.read_csv('data/Test_09JmpYa.csv')"
   ]
  },
  {
   "cell_type": "code",
   "execution_count": 3,
   "metadata": {
    "collapsed": false
   },
   "outputs": [
    {
     "data": {
      "text/plain": [
       "0    0.803783\n",
       "1    0.161500\n",
       "2    0.034717\n",
       "Name: Email_Status, dtype: float64"
      ]
     },
     "execution_count": 3,
     "metadata": {},
     "output_type": "execute_result"
    }
   ],
   "source": [
    "#Check the percentage of email status\n",
    "trainDF['Email_Status'].value_counts() /trainDF['Email_Status'].size"
   ]
  },
  {
   "cell_type": "code",
   "execution_count": 4,
   "metadata": {
    "collapsed": false
   },
   "outputs": [],
   "source": [
    "target = trainDF['Email_Status']\n",
    "emailids = testDF['Email_ID']\n",
    "\n",
    "#Do the tagging for train and test\n",
    "trainDF['tag'] = 'train'\n",
    "testDF['tag'] = 'test'\n",
    "\n",
    "trainDF = trainDF.drop(['Email_ID','Email_Status'], axis=1)\n",
    "testDF = testDF.drop('Email_ID',axis=1)"
   ]
  },
  {
   "cell_type": "code",
   "execution_count": 5,
   "metadata": {
    "collapsed": false
   },
   "outputs": [],
   "source": [
    "#Merge all the data for processing\n",
    "allDF = pd.concat([trainDF,testDF],ignore_index=True)"
   ]
  },
  {
   "cell_type": "code",
   "execution_count": 6,
   "metadata": {
    "collapsed": false
   },
   "outputs": [
    {
     "data": {
      "text/html": [
       "<div>\n",
       "<table border=\"1\" class=\"dataframe\">\n",
       "  <thead>\n",
       "    <tr style=\"text-align: right;\">\n",
       "      <th></th>\n",
       "      <th>Email_Type</th>\n",
       "      <th>Subject_Hotness_Score</th>\n",
       "      <th>Email_Source_Type</th>\n",
       "      <th>Email_Campaign_Type</th>\n",
       "      <th>Total_Past_Communications</th>\n",
       "      <th>Time_Email_sent_Category</th>\n",
       "      <th>Word_Count</th>\n",
       "      <th>Total_Links</th>\n",
       "      <th>Total_Images</th>\n",
       "    </tr>\n",
       "  </thead>\n",
       "  <tbody>\n",
       "    <tr>\n",
       "      <th>count</th>\n",
       "      <td>114331.000000</td>\n",
       "      <td>114331.000000</td>\n",
       "      <td>114331.000000</td>\n",
       "      <td>114331.000000</td>\n",
       "      <td>102816.000000</td>\n",
       "      <td>114331.000000</td>\n",
       "      <td>114331.000000</td>\n",
       "      <td>110707.00000</td>\n",
       "      <td>111561.000000</td>\n",
       "    </tr>\n",
       "    <tr>\n",
       "      <th>mean</th>\n",
       "      <td>1.284096</td>\n",
       "      <td>1.095876</td>\n",
       "      <td>1.456928</td>\n",
       "      <td>2.270539</td>\n",
       "      <td>28.892225</td>\n",
       "      <td>1.997945</td>\n",
       "      <td>701.350885</td>\n",
       "      <td>10.41291</td>\n",
       "      <td>3.535178</td>\n",
       "    </tr>\n",
       "    <tr>\n",
       "      <th>std</th>\n",
       "      <td>0.450985</td>\n",
       "      <td>0.996247</td>\n",
       "      <td>0.498144</td>\n",
       "      <td>0.468056</td>\n",
       "      <td>12.528849</td>\n",
       "      <td>0.631809</td>\n",
       "      <td>271.875965</td>\n",
       "      <td>6.39044</td>\n",
       "      <td>5.592399</td>\n",
       "    </tr>\n",
       "    <tr>\n",
       "      <th>min</th>\n",
       "      <td>1.000000</td>\n",
       "      <td>0.000000</td>\n",
       "      <td>1.000000</td>\n",
       "      <td>1.000000</td>\n",
       "      <td>0.000000</td>\n",
       "      <td>1.000000</td>\n",
       "      <td>40.000000</td>\n",
       "      <td>1.00000</td>\n",
       "      <td>0.000000</td>\n",
       "    </tr>\n",
       "    <tr>\n",
       "      <th>25%</th>\n",
       "      <td>1.000000</td>\n",
       "      <td>0.200000</td>\n",
       "      <td>1.000000</td>\n",
       "      <td>2.000000</td>\n",
       "      <td>20.000000</td>\n",
       "      <td>2.000000</td>\n",
       "      <td>521.000000</td>\n",
       "      <td>6.00000</td>\n",
       "      <td>0.000000</td>\n",
       "    </tr>\n",
       "    <tr>\n",
       "      <th>50%</th>\n",
       "      <td>1.000000</td>\n",
       "      <td>0.800000</td>\n",
       "      <td>1.000000</td>\n",
       "      <td>2.000000</td>\n",
       "      <td>28.000000</td>\n",
       "      <td>2.000000</td>\n",
       "      <td>694.000000</td>\n",
       "      <td>9.00000</td>\n",
       "      <td>0.000000</td>\n",
       "    </tr>\n",
       "    <tr>\n",
       "      <th>75%</th>\n",
       "      <td>2.000000</td>\n",
       "      <td>1.800000</td>\n",
       "      <td>2.000000</td>\n",
       "      <td>3.000000</td>\n",
       "      <td>38.000000</td>\n",
       "      <td>2.000000</td>\n",
       "      <td>880.000000</td>\n",
       "      <td>14.00000</td>\n",
       "      <td>5.000000</td>\n",
       "    </tr>\n",
       "    <tr>\n",
       "      <th>max</th>\n",
       "      <td>2.000000</td>\n",
       "      <td>5.000000</td>\n",
       "      <td>2.000000</td>\n",
       "      <td>3.000000</td>\n",
       "      <td>67.000000</td>\n",
       "      <td>3.000000</td>\n",
       "      <td>1316.000000</td>\n",
       "      <td>49.00000</td>\n",
       "      <td>47.000000</td>\n",
       "    </tr>\n",
       "  </tbody>\n",
       "</table>\n",
       "</div>"
      ],
      "text/plain": [
       "          Email_Type  Subject_Hotness_Score  Email_Source_Type  \\\n",
       "count  114331.000000          114331.000000      114331.000000   \n",
       "mean        1.284096               1.095876           1.456928   \n",
       "std         0.450985               0.996247           0.498144   \n",
       "min         1.000000               0.000000           1.000000   \n",
       "25%         1.000000               0.200000           1.000000   \n",
       "50%         1.000000               0.800000           1.000000   \n",
       "75%         2.000000               1.800000           2.000000   \n",
       "max         2.000000               5.000000           2.000000   \n",
       "\n",
       "       Email_Campaign_Type  Total_Past_Communications  \\\n",
       "count        114331.000000              102816.000000   \n",
       "mean              2.270539                  28.892225   \n",
       "std               0.468056                  12.528849   \n",
       "min               1.000000                   0.000000   \n",
       "25%               2.000000                  20.000000   \n",
       "50%               2.000000                  28.000000   \n",
       "75%               3.000000                  38.000000   \n",
       "max               3.000000                  67.000000   \n",
       "\n",
       "       Time_Email_sent_Category     Word_Count   Total_Links   Total_Images  \n",
       "count             114331.000000  114331.000000  110707.00000  111561.000000  \n",
       "mean                   1.997945     701.350885      10.41291       3.535178  \n",
       "std                    0.631809     271.875965       6.39044       5.592399  \n",
       "min                    1.000000      40.000000       1.00000       0.000000  \n",
       "25%                    2.000000     521.000000       6.00000       0.000000  \n",
       "50%                    2.000000     694.000000       9.00000       0.000000  \n",
       "75%                    2.000000     880.000000      14.00000       5.000000  \n",
       "max                    3.000000    1316.000000      49.00000      47.000000  "
      ]
     },
     "execution_count": 6,
     "metadata": {},
     "output_type": "execute_result"
    }
   ],
   "source": [
    "allDF.describe()"
   ]
  },
  {
   "cell_type": "code",
   "execution_count": 7,
   "metadata": {
    "collapsed": false,
    "scrolled": true
   },
   "outputs": [
    {
     "data": {
      "text/plain": [
       "Index(['Email_Type', 'Subject_Hotness_Score', 'Email_Source_Type',\n",
       "       'Customer_Location', 'Email_Campaign_Type', 'Total_Past_Communications',\n",
       "       'Time_Email_sent_Category', 'Word_Count', 'Total_Links', 'Total_Images',\n",
       "       'tag'],\n",
       "      dtype='object')"
      ]
     },
     "execution_count": 7,
     "metadata": {},
     "output_type": "execute_result"
    }
   ],
   "source": [
    "allDF.columns"
   ]
  },
  {
   "cell_type": "code",
   "execution_count": 8,
   "metadata": {
    "collapsed": false
   },
   "outputs": [
    {
     "name": "stdout",
     "output_type": "stream",
     "text": [
      "Customer_Location - 19438\n",
      "Total_Past_Communications - 11515\n",
      "Total_Links - 3624\n",
      "Total_Images - 2770\n"
     ]
    }
   ],
   "source": [
    "#Check all the null values\n",
    "for col in allDF.columns:\n",
    "    if(allDF[col].isnull().sum() > 0):\n",
    "        print(col + ' - ' +str(allDF[col].isnull().sum()))"
   ]
  },
  {
   "cell_type": "code",
   "execution_count": 9,
   "metadata": {
    "collapsed": false
   },
   "outputs": [],
   "source": [
    "#Do processing on each coloumn to fill the NA's\n",
    "allDF['Customer_Location'].fillna('unknown', inplace=True)\n",
    "allDF['Total_Past_Communications'].fillna(allDF['Total_Past_Communications'].mean(), inplace=True)\n",
    "allDF['Total_Links'].fillna(allDF['Total_Links'].mean(), inplace=True)\n",
    "allDF['Total_Images'].fillna(0, inplace=True)"
   ]
  },
  {
   "cell_type": "code",
   "execution_count": 10,
   "metadata": {
    "collapsed": false
   },
   "outputs": [
    {
     "data": {
      "text/plain": [
       "<matplotlib.axes._subplots.AxesSubplot at 0xe8cb9e4c50>"
      ]
     },
     "execution_count": 10,
     "metadata": {},
     "output_type": "execute_result"
    },
    {
     "data": {
      "image/png": "[encoded data removed]",
      "text/plain": [
       "<matplotlib.figure.Figure at 0xe8ca96ffd0>"
      ]
     },
     "metadata": {},
     "output_type": "display_data"
    }
   ],
   "source": [
    "sns.heatmap(allDF.corr())"
   ]
  },
  {
   "cell_type": "code",
   "execution_count": 11,
   "metadata": {
    "collapsed": true
   },
   "outputs": [],
   "source": [
    "col_to_drop = ['Email_Type','Email_Source_Type','Customer_Location','Email_Campaign_Type','Time_Email_sent_Category']\n",
    "drop_cols_overfitting = ['Total_Images']"
   ]
  },
  {
   "cell_type": "code",
   "execution_count": 12,
   "metadata": {
    "collapsed": false
   },
   "outputs": [],
   "source": [
    "#Convert customer locatation to categorial.\n",
    "for col in col_to_drop:\n",
    "    dummyvar = pd.get_dummies(allDF[col],prefix=col)\n",
    "    allDF = pd.concat([allDF,dummyvar],axis=1)\n",
    "\n",
    "allDF = allDF.drop(col_to_drop, axis=1)\n",
    "allDF = allDF.drop(drop_cols_overfitting, axis=1)"
   ]
  },
  {
   "cell_type": "code",
   "execution_count": 13,
   "metadata": {
    "collapsed": false
   },
   "outputs": [
    {
     "data": {
      "text/plain": [
       "Index(['Subject_Hotness_Score', 'Total_Past_Communications', 'Word_Count',\n",
       "       'Total_Links', 'tag', 'Email_Type_1', 'Email_Type_2',\n",
       "       'Email_Source_Type_1', 'Email_Source_Type_2', 'Customer_Location_A',\n",
       "       'Customer_Location_B', 'Customer_Location_C', 'Customer_Location_D',\n",
       "       'Customer_Location_E', 'Customer_Location_F', 'Customer_Location_G',\n",
       "       'Customer_Location_H', 'Customer_Location_unknown',\n",
       "       'Email_Campaign_Type_1', 'Email_Campaign_Type_2',\n",
       "       'Email_Campaign_Type_3', 'Time_Email_sent_Category_1',\n",
       "       'Time_Email_sent_Category_2', 'Time_Email_sent_Category_3'],\n",
       "      dtype='object')"
      ]
     },
     "execution_count": 13,
     "metadata": {},
     "output_type": "execute_result"
    }
   ],
   "source": [
    "allDF.columns"
   ]
  },
  {
   "cell_type": "code",
   "execution_count": 14,
   "metadata": {
    "collapsed": false
   },
   "outputs": [],
   "source": [
    "#Split, train and test data\n",
    "X_train = allDF[allDF['tag'] == 'train'].drop('tag',axis=1)\n",
    "y_train = target\n",
    "X_test = allDF[allDF['tag'] == 'test'].drop('tag',axis=1)"
   ]
  },
  {
   "cell_type": "code",
   "execution_count": 15,
   "metadata": {
    "collapsed": false
   },
   "outputs": [
    {
     "data": {
      "text/plain": [
       "(45978, 23)"
      ]
     },
     "execution_count": 15,
     "metadata": {},
     "output_type": "execute_result"
    }
   ],
   "source": [
    "X_test.shape"
   ]
  },
  {
   "cell_type": "code",
   "execution_count": 16,
   "metadata": {
    "collapsed": true
   },
   "outputs": [],
   "source": [
    "def xgb_modelfit(alg, X_train, y_train, useTrainCV=True, cv_folds=5, early_stopping_rounds=50):\n",
    "    \n",
    "    if useTrainCV:\n",
    "        xgb_param = alg.get_xgb_params()\n",
    "        #set num_class for multi class classification problem\n",
    "        xgb_param['num_class'] = 3\n",
    "        xgtrain = xgb.DMatrix(X_train.values, label=y_train.values)\n",
    "        cvresult = xgb.cv(xgb_param, xgtrain, num_boost_round=alg.get_params()['n_estimators'], nfold=cv_folds,\n",
    "                          metrics='merror', early_stopping_rounds=early_stopping_rounds, verbose_eval=1)\n",
    "        #print(cvresult)\n",
    "        alg.set_params(n_estimators=cvresult.shape[0])\n",
    "    \n",
    "    #Fit the algorithm on the data\n",
    "    alg.fit(X_train, y_train,eval_metric='merror')\n",
    "        \n",
    "    #Predict training set:\n",
    "    dtrain_predictions = alg.predict(X_train)\n",
    "        \n",
    "    #Print model report:\n",
    "    print(\"\\nModel Report\")\n",
    "    print(\"Accuracy : %.4g\" % metrics.accuracy_score(y_train.values, dtrain_predictions))\n",
    "    print(\"Confusion matrix:\")\n",
    "    print(metrics.confusion_matrix(y_train.values, dtrain_predictions,labels=[0,1,2]))\n",
    "    feat_imp = pd.Series(alg.booster().get_fscore()).sort_values(ascending=False)\n",
    "    feat_imp.plot(kind='bar', title='Feature Importances')\n",
    "    plt.ylabel('Feature Importance Score')"
   ]
  },
  {
   "cell_type": "code",
   "execution_count": null,
   "metadata": {
    "collapsed": true
   },
   "outputs": [],
   "source": []
  },
  {
   "cell_type": "code",
   "execution_count": 17,
   "metadata": {
    "collapsed": true
   },
   "outputs": [],
   "source": [
    "xgc = XGBClassifier(n_estimators=500, max_depth=7, seed=2016,\n",
    "                    min_child_weight=6,\n",
    "                    learning_rate=0.01, subsample=0.6, colsample_bytree=0.8,objective='multi:softmax')"
   ]
  },
  {
   "cell_type": "code",
   "execution_count": 18,
   "metadata": {
    "collapsed": false
   },
   "outputs": [
    {
     "name": "stderr",
     "output_type": "stream",
     "text": [
      "Will train until cv error hasn't decreased in 50 rounds.\n",
      "[0]\tcv-test-merror:0.1873802+0.003434040558875217\tcv-train-merror:0.1850686+0.001028508162339997\n",
      "[1]\tcv-test-merror:0.18660480000000002+0.0033284337698082597\tcv-train-merror:0.1843884+0.0009519060037629786\n",
      "[2]\tcv-test-merror:0.1865608+0.0030797454700023453\tcv-train-merror:0.1847032+0.000958134312087821\n",
      "[3]\tcv-test-merror:0.18651700000000002+0.0025321179277434905\tcv-train-merror:0.1844872+0.000954523001294366\n",
      "[4]\tcv-test-merror:0.1867804+0.002508392840047191\tcv-train-merror:0.1847504+0.0011610120757339258\n",
      "[5]\tcv-test-merror:0.186605+0.002591983101796768\tcv-train-merror:0.18455660000000002+0.0010754972059470922\n",
      "[6]\tcv-test-merror:0.18698520000000002+0.0024703563629565684\tcv-train-merror:0.184641+0.0012935206221780884\n",
      "[7]\tcv-test-merror:0.18707279999999998+0.0026215150886462666\tcv-train-merror:0.1847028+0.0010538085974217586\n",
      "[8]\tcv-test-merror:0.187336+0.0025429846244128113\tcv-train-merror:0.1845638+0.001143177921410312\n",
      "[9]\tcv-test-merror:0.1873656+0.002404955267775273\tcv-train-merror:0.1846592+0.0011654841740667294\n",
      "[10]\tcv-test-merror:0.18719000000000002+0.0023411357073010483\tcv-train-merror:0.1846116+0.001214230390000191\n",
      "[11]\tcv-test-merror:0.18739460000000002+0.0024380818361982807\tcv-train-merror:0.18452+0.001177734435261199\n",
      "[12]\tcv-test-merror:0.1873218+0.0025828638678799896\tcv-train-merror:0.184586+0.0010320552310801945\n",
      "[13]\tcv-test-merror:0.18717540000000002+0.0025825848756623614\tcv-train-merror:0.1847544+0.000816959386995463\n",
      "[14]\tcv-test-merror:0.1872484+0.0025028472266600678\tcv-train-merror:0.1847102+0.0007590218442179411\n",
      "[15]\tcv-test-merror:0.1870876+0.00267403100954346\tcv-train-merror:0.18457479999999998+0.0007648773496450277\n",
      "[16]\tcv-test-merror:0.1870144+0.0025052709713721563\tcv-train-merror:0.1843704+0.0006633088571698768\n",
      "[17]\tcv-test-merror:0.18691200000000002+0.002525740049965556\tcv-train-merror:0.18445779999999998+0.0007363483958018772\n",
      "[18]\tcv-test-merror:0.1867948+0.002586908069491459\tcv-train-merror:0.1843372+0.0007078873921747774\n",
      "[19]\tcv-test-merror:0.187+0.002666433948178721\tcv-train-merror:0.184498+0.0009010613741582749\n",
      "[20]\tcv-test-merror:0.1868532+0.0027761062947949263\tcv-train-merror:0.1844066+0.0008190334791692005\n",
      "[21]\tcv-test-merror:0.1869266+0.0027354023177587577\tcv-train-merror:0.1843298+0.0007720863682257295\n",
      "[22]\tcv-test-merror:0.1869706+0.002592429023136412\tcv-train-merror:0.18430420000000003+0.0006686575805298278\n",
      "[23]\tcv-test-merror:0.1869266+0.0026853657181099147\tcv-train-merror:0.18424580000000002+0.0007119529197917546\n",
      "[24]\tcv-test-merror:0.18688260000000004+0.00271556790377261\tcv-train-merror:0.18426040000000002+0.0007111375675634078\n",
      "[25]\tcv-test-merror:0.18686799999999998+0.002878781825703361\tcv-train-merror:0.18435539999999997+0.0006101936086194271\n",
      "[26]\tcv-test-merror:0.1868534+0.0027408273641365975\tcv-train-merror:0.18429320000000002+0.0006685705347979448\n",
      "[27]\tcv-test-merror:0.18689739999999996+0.002674403230629215\tcv-train-merror:0.1843264+0.0006909302714456856\n",
      "[28]\tcv-test-merror:0.1868532+0.0025686189596746322\tcv-train-merror:0.1843224+0.0007094354375135189\n",
      "[29]\tcv-test-merror:0.1868388+0.0025470158538964814\tcv-train-merror:0.184363+0.0007217088055441733\n",
      "[30]\tcv-test-merror:0.18680979999999997+0.0026539441893152177\tcv-train-merror:0.184341+0.0007629660542907504\n",
      "[31]\tcv-test-merror:0.1868534+0.0026561318190180235\tcv-train-merror:0.184297+0.0006998348376581494\n",
      "[32]\tcv-test-merror:0.18701439999999997+0.0025995377742975864\tcv-train-merror:0.18437+0.0008248056740832913\n",
      "[33]\tcv-test-merror:0.1869266+0.002664274805645995\tcv-train-merror:0.18427120000000002+0.0006414625164419225\n",
      "[34]\tcv-test-merror:0.18691220000000003+0.0025431531137546535\tcv-train-merror:0.18423859999999997+0.0006915187922247689\n",
      "[35]\tcv-test-merror:0.186985+0.0024251871680346605\tcv-train-merror:0.184253+0.0007834214702189345\n",
      "[36]\tcv-test-merror:0.1869268+0.0024884451691769374\tcv-train-merror:0.184209+0.0007373303194633974\n",
      "[37]\tcv-test-merror:0.1870142+0.002508605381481909\tcv-train-merror:0.18419459999999999+0.000725234196656502\n",
      "[38]\tcv-test-merror:0.186912+0.002573157515582747\tcv-train-merror:0.18417640000000002+0.0006479075860028187\n",
      "[39]\tcv-test-merror:0.1867804+0.0026207175811216255\tcv-train-merror:0.1841542+0.0006748396550292562\n",
      "[40]\tcv-test-merror:0.18670720000000002+0.0025249483479865514\tcv-train-merror:0.184147+0.0007063183418261268\n",
      "[41]\tcv-test-merror:0.1867218+0.002498693530627552\tcv-train-merror:0.1840664+0.0007578814155262063\n",
      "[42]\tcv-test-merror:0.1866632+0.0026238447667497385\tcv-train-merror:0.1840664+0.0006379418782303027\n",
      "[43]\tcv-test-merror:0.1866486+0.0025714075989620943\tcv-train-merror:0.1840484+0.00061943154585474\n",
      "[44]\tcv-test-merror:0.1866634+0.0026010432983708705\tcv-train-merror:0.1840262+0.0006173175519941091\n",
      "[45]\tcv-test-merror:0.186561+0.002652500179076336\tcv-train-merror:0.18405580000000002+0.0006515647013152247\n",
      "[46]\tcv-test-merror:0.18659019999999998+0.0026498562527050335\tcv-train-merror:0.184008+0.0005946868083285501\n",
      "[47]\tcv-test-merror:0.1866928+0.0027229750935328033\tcv-train-merror:0.183979+0.0005976949054492582\n",
      "[48]\tcv-test-merror:0.18651679999999998+0.002712906293995424\tcv-train-merror:0.18397860000000002+0.0005708017519244276\n",
      "[49]\tcv-test-merror:0.1865462+0.0026396021215327153\tcv-train-merror:0.183913+0.0005916292758138328\n",
      "[50]\tcv-test-merror:0.18660459999999998+0.0026750913704021387\tcv-train-merror:0.18392380000000003+0.0005968552253268738\n",
      "[51]\tcv-test-merror:0.18661919999999999+0.0025947113442539257\tcv-train-merror:0.1838874+0.0005704565189390033\n",
      "[52]\tcv-test-merror:0.1865608+0.0026152635354778275\tcv-train-merror:0.18393120000000002+0.0005677222560372219\n",
      "[53]\tcv-test-merror:0.1865024+0.002656079938556069\tcv-train-merror:0.1839054+0.0006724922601785109\n",
      "[54]\tcv-test-merror:0.1865316+0.0025487059147732177\tcv-train-merror:0.18388+0.0006072765432650923\n",
      "[55]\tcv-test-merror:0.1864876+0.002612422982596804\tcv-train-merror:0.1838764+0.0006397501387260484\n",
      "[56]\tcv-test-merror:0.18651679999999998+0.0026322183344092143\tcv-train-merror:0.18395299999999998+0.0006184034281923131\n",
      "[57]\tcv-test-merror:0.1864146+0.002646376360232989\tcv-train-merror:0.183924+0.0006761677306704279\n",
      "[58]\tcv-test-merror:0.18653159999999996+0.0027261521307513216\tcv-train-merror:0.18389099999999997+0.0006383610263792715\n",
      "[59]\tcv-test-merror:0.18648779999999998+0.0027248375658009455\tcv-train-merror:0.18382520000000002+0.0006518476509123911\n",
      "[60]\tcv-test-merror:0.18645839999999997+0.0026961846079228313\tcv-train-merror:0.1838362+0.0007044122088663746\n",
      "[61]\tcv-test-merror:0.186517+0.0025929233694808674\tcv-train-merror:0.183825+0.000677599291617104\n",
      "[62]\tcv-test-merror:0.1865024+0.0025398467355334606\tcv-train-merror:0.18375199999999997+0.0006905858382561863\n",
      "[63]\tcv-test-merror:0.1865462+0.002559354246680199\tcv-train-merror:0.18372280000000002+0.0007166207923302217\n",
      "[64]\tcv-test-merror:0.1865316+0.002551775350613758\tcv-train-merror:0.183719+0.0006932073282936342\n",
      "[65]\tcv-test-merror:0.186546+0.0026373458627946427\tcv-train-merror:0.1837446+0.000709100726272363\n",
      "[66]\tcv-test-merror:0.18654620000000002+0.0026294332012812196\tcv-train-merror:0.1837264+0.0007409174312971765\n",
      "[67]\tcv-test-merror:0.1864732+0.0026958683499013775\tcv-train-merror:0.1836606+0.000714064590915979\n",
      "[68]\tcv-test-merror:0.1864002+0.002724098779413116\tcv-train-merror:0.1836388+0.0006876718403424681\n",
      "[69]\tcv-test-merror:0.1863706+0.0025843082323902464\tcv-train-merror:0.1836058+0.0007040424419024751\n",
      "[70]\tcv-test-merror:0.1863854+0.0026890596572036094\tcv-train-merror:0.1835398+0.0007375888827795585\n",
      "[71]\tcv-test-merror:0.1863854+0.0026194935082950663\tcv-train-merror:0.1836206+0.0007579320813898859\n",
      "[72]\tcv-test-merror:0.1863852+0.002582858524968029\tcv-train-merror:0.1835728+0.0007242243851183196\n",
      "[73]\tcv-test-merror:0.1865608+0.002605027324232895\tcv-train-merror:0.18362399999999998+0.0007399578366366524\n",
      "[74]\tcv-test-merror:0.186444+0.0026819800148397753\tcv-train-merror:0.183558+0.0007353426412224447\n",
      "[75]\tcv-test-merror:0.1865024+0.002592078903120044\tcv-train-merror:0.18350360000000002+0.000755780020905558\n",
      "[76]\tcv-test-merror:0.18645859999999997+0.002654721876204732\tcv-train-merror:0.1834706+0.0007225179859352961\n",
      "[77]\tcv-test-merror:0.1865462+0.002679680682469463\tcv-train-merror:0.1834556+0.0007580895989261424\n",
      "[78]\tcv-test-merror:0.1864732+0.0026496221164535876\tcv-train-merror:0.1834814+0.000709833952414226\n",
      "[79]\tcv-test-merror:0.186371+0.002644438541543368\tcv-train-merror:0.1834156+0.0006887721248715004\n",
      "[80]\tcv-test-merror:0.18641480000000002+0.00267494728172351\tcv-train-merror:0.1834632+0.0006755008216131142\n",
      "[81]\tcv-test-merror:0.18635600000000002+0.0026675886489487097\tcv-train-merror:0.18347419999999998+0.0007061901726872177\n",
      "[82]\tcv-test-merror:0.1863998+0.0027084218578352997\tcv-train-merror:0.18347419999999998+0.0006930002597402114\n",
      "[83]\tcv-test-merror:0.18631240000000002+0.00281194271634399\tcv-train-merror:0.183452+0.0007021469931574194\n",
      "[84]\tcv-test-merror:0.18632700000000002+0.0027773622738130545\tcv-train-merror:0.1834632+0.0006420577544115563\n",
      "[85]\tcv-test-merror:0.18628300000000003+0.002746812188701662\tcv-train-merror:0.18342999999999998+0.000685361218628545\n",
      "[86]\tcv-test-merror:0.1863122+0.002773539284019609\tcv-train-merror:0.1833826+0.0006616048972007325\n",
      "[87]\tcv-test-merror:0.18620980000000004+0.0027247163081686146\tcv-train-merror:0.18339+0.0006763602590336044\n",
      "[88]\tcv-test-merror:0.18625360000000002+0.0027320602189556515\tcv-train-merror:0.1833498+0.0006424625747854857\n",
      "[89]\tcv-test-merror:0.18628280000000003+0.0027089923883244784\tcv-train-merror:0.1833644+0.000674765322167638\n",
      "[90]\tcv-test-merror:0.18626820000000002+0.002695582564122267\tcv-train-merror:0.18337180000000003+0.0006881759658691942\n",
      "[91]\tcv-test-merror:0.18625360000000002+0.0027292478524311454\tcv-train-merror:0.183357+0.0007053149651042411\n",
      "[92]\tcv-test-merror:0.18620980000000004+0.0027574415243119808\tcv-train-merror:0.1833458+0.0006869597950389766\n",
      "[93]\tcv-test-merror:0.1861074+0.002693060162714536\tcv-train-merror:0.1833424+0.000677666761764215\n",
      "[94]\tcv-test-merror:0.1861074+0.002741327532419284\tcv-train-merror:0.1833168+0.0006757278742215639\n",
      "[95]\tcv-test-merror:0.186166+0.0026885061279454045\tcv-train-merror:0.18328760000000002+0.0006861476808967543\n",
      "[96]\tcv-test-merror:0.18619520000000003+0.002772701166732539\tcv-train-merror:0.18323640000000002+0.0006750000296296244\n",
      "[97]\tcv-test-merror:0.186122+0.002773840586623543\tcv-train-merror:0.183251+0.0007068360488826223\n",
      "[98]\tcv-test-merror:0.1861366+0.002856376417771296\tcv-train-merror:0.1832144+0.0006926484245271851\n",
      "[99]\tcv-test-merror:0.1861952+0.0028540313523155274\tcv-train-merror:0.18322880000000002+0.0006425260772918078\n",
      "[100]\tcv-test-merror:0.1861804+0.0029125751217779793\tcv-train-merror:0.1832508+0.0006127065855693036\n",
      "[101]\tcv-test-merror:0.1861658+0.0028438033968613222\tcv-train-merror:0.18318879999999998+0.0005948665060330767\n",
      "[102]\tcv-test-merror:0.18616580000000002+0.0028442500171398408\tcv-train-merror:0.18316680000000002+0.0006498077869647233\n",
      "[103]\tcv-test-merror:0.18615120000000002+0.0027712276268830804\tcv-train-merror:0.1831374+0.0006164805268619597\n",
      "[104]\tcv-test-merror:0.1860928+0.00282510045131142\tcv-train-merror:0.1831082+0.000642071460197384\n",
      "[105]\tcv-test-merror:0.18606340000000002+0.002831707230629605\tcv-train-merror:0.1831048+0.0006526399926452573\n",
      "[106]\tcv-test-merror:0.1861218+0.0028668361236736215\tcv-train-merror:0.1831486+0.0007067247271745926\n",
      "[107]\tcv-test-merror:0.1860342+0.0028123196404391893\tcv-train-merror:0.183134+0.0006946460969443337\n",
      "[108]\tcv-test-merror:0.1860928+0.002813219536403085\tcv-train-merror:0.1831194+0.0006741129282249365\n",
      "[109]\tcv-test-merror:0.1860928+0.002794938811494809\tcv-train-merror:0.1831192+0.0006561296823037288\n",
      "[110]\tcv-test-merror:0.1861218+0.0028745818756820965\tcv-train-merror:0.183079+0.0006528206491832154\n",
      "[111]\tcv-test-merror:0.1860926+0.002845655678398217\tcv-train-merror:0.18307879999999999+0.0007041350438658712\n",
      "[112]\tcv-test-merror:0.18600500000000003+0.002812232422827108\tcv-train-merror:0.183068+0.0006898921654867527\n",
      "[113]\tcv-test-merror:0.18599040000000003+0.0028763407030461432\tcv-train-merror:0.1830386+0.0006670611965929361\n",
      "[114]\tcv-test-merror:0.18591740000000004+0.0028427913465465587\tcv-train-merror:0.1830532+0.0006576225056976032\n",
      "[115]\tcv-test-merror:0.1859172+0.002863126221457939\tcv-train-merror:0.18304979999999998+0.0006574226646534174\n",
      "[116]\tcv-test-merror:0.18591720000000003+0.002823759083208054\tcv-train-merror:0.1830206+0.00063689798241163\n",
      "[117]\tcv-test-merror:0.18587340000000002+0.0028019717057814787\tcv-train-merror:0.1830168+0.0006617798425458455\n",
      "[118]\tcv-test-merror:0.18587320000000002+0.0028596224506042783\tcv-train-merror:0.1830022+0.0006734693459987665\n",
      "[119]\tcv-test-merror:0.18590260000000003+0.0028281315103792504\tcv-train-merror:0.1830168+0.0006893435718130715\n",
      "[120]\tcv-test-merror:0.18587340000000002+0.0028507710255297578\tcv-train-merror:0.1830058+0.0006974422986885762\n",
      "[121]\tcv-test-merror:0.18587340000000002+0.002840257847449774\tcv-train-merror:0.18294360000000004+0.000669316845746471\n",
      "[122]\tcv-test-merror:0.1858148+0.0030179006875641224\tcv-train-merror:0.1829364+0.0006763740385319413\n",
      "[123]\tcv-test-merror:0.18581460000000002+0.003005933039839715\tcv-train-merror:0.1829692+0.0006329693199516074\n",
      "[124]\tcv-test-merror:0.18580000000000002+0.0030386172513167894\tcv-train-merror:0.1829292+0.0006647891094174089\n",
      "[125]\tcv-test-merror:0.1857562+0.003005683376538523\tcv-train-merror:0.18294000000000002+0.0006594333931489938\n",
      "[126]\tcv-test-merror:0.18580000000000002+0.002882875300806466\tcv-train-merror:0.18292920000000001+0.000671126038833246\n",
      "[127]\tcv-test-merror:0.185756+0.0029762800943459616\tcv-train-merror:0.1828706+0.0006561849129628028\n",
      "[128]\tcv-test-merror:0.18571259999999998+0.0029970717442196846\tcv-train-merror:0.1828486+0.0006820494410231582\n",
      "[129]\tcv-test-merror:0.18580039999999998+0.0029596820504912387\tcv-train-merror:0.1828232+0.0006879065052752417\n",
      "[130]\tcv-test-merror:0.1858148+0.002951002094204613\tcv-train-merror:0.182812+0.0006995049678165305\n",
      "[131]\tcv-test-merror:0.1857414+0.0030032516777652855\tcv-train-merror:0.1828046+0.0007123214442932351\n",
      "[132]\tcv-test-merror:0.18584420000000001+0.0029789447393330447\tcv-train-merror:0.1828448+0.0006909591594298457\n",
      "[133]\tcv-test-merror:0.18578540000000002+0.0030022202850557077\tcv-train-merror:0.1828008+0.000705527433910264\n",
      "[134]\tcv-test-merror:0.18578540000000002+0.0030242662977985253\tcv-train-merror:0.18277939999999998+0.0006962960864459911\n",
      "[135]\tcv-test-merror:0.18569780000000002+0.0030684046278155745\tcv-train-merror:0.1827938+0.0006978175692829735\n",
      "[136]\tcv-test-merror:0.18571240000000003+0.003034425850140348\tcv-train-merror:0.1827682+0.0006930758688628574\n",
      "[137]\tcv-test-merror:0.18569780000000002+0.00299098307584647\tcv-train-merror:0.1827682+0.0006937404125463712\n",
      "[138]\tcv-test-merror:0.1856392+0.0029490721523896266\tcv-train-merror:0.1827644+0.000725801240009968\n",
      "[139]\tcv-test-merror:0.18565399999999999+0.0029878583634436215\tcv-train-merror:0.1827608+0.0007349180634601408\n",
      "[140]\tcv-test-merror:0.1855368+0.002968620312535777\tcv-train-merror:0.18272419999999998+0.000698824842145729\n",
      "[141]\tcv-test-merror:0.1855222+0.0029236877671871796\tcv-train-merror:0.1827608+0.000706398584370043\n",
      "[142]\tcv-test-merror:0.18553699999999998+0.0028864806945482933\tcv-train-merror:0.1827498+0.0006937715474131215\n",
      "[143]\tcv-test-merror:0.18558059999999998+0.0028805810247240085\tcv-train-merror:0.18269860000000002+0.0007130435049840939\n",
      "[144]\tcv-test-merror:0.1855662+0.0029456890806736492\tcv-train-merror:0.1827132+0.000721366314711194\n",
      "[145]\tcv-test-merror:0.1855076+0.002910757468426383\tcv-train-merror:0.18271679999999998+0.0007370037720391889\n",
      "[146]\tcv-test-merror:0.1855076+0.0029496861934788917\tcv-train-merror:0.1826914+0.0007405008035107069\n",
      "[147]\tcv-test-merror:0.1854638+0.002967602089229615\tcv-train-merror:0.18270240000000001+0.0007370705800667952\n",
      "[148]\tcv-test-merror:0.18550759999999997+0.0030286942797185653\tcv-train-merror:0.1826914+0.000761172411481136\n",
      "[149]\tcv-test-merror:0.185493+0.002907629893917032\tcv-train-merror:0.182662+0.0007477700181205487\n",
      "[150]\tcv-test-merror:0.18543419999999997+0.002908569572831286\tcv-train-merror:0.182673+0.0007315006493503561\n",
      "[151]\tcv-test-merror:0.18547819999999998+0.0029293848774102705\tcv-train-merror:0.1826622+0.0007560797312453229\n",
      "[152]\tcv-test-merror:0.18546379999999998+0.0030042006857065977\tcv-train-merror:0.1826692+0.0007427016628499017\n",
      "[153]\tcv-test-merror:0.18546379999999998+0.002952361048381449\tcv-train-merror:0.18262180000000003+0.0007142037244372279\n",
      "[154]\tcv-test-merror:0.18537559999999997+0.0029565695391788067\tcv-train-merror:0.1826328+0.0007354567016487128\n",
      "[155]\tcv-test-merror:0.18541959999999996+0.002973243521812496\tcv-train-merror:0.18263259999999998+0.0007179149253219364\n",
      "[156]\tcv-test-merror:0.18537559999999997+0.0029525910383932266\tcv-train-merror:0.18257439999999997+0.0007292987316593905\n",
      "[157]\tcv-test-merror:0.1853612+0.0029109533421200684\tcv-train-merror:0.1826072+0.0007356625313280532\n",
      "[158]\tcv-test-merror:0.1853612+0.0029017654212565155\tcv-train-merror:0.18260700000000002+0.0007375719625907731\n",
      "[159]\tcv-test-merror:0.1853318+0.002872514814583207\tcv-train-merror:0.18262179999999997+0.0006840091812249298\n",
      "[160]\tcv-test-merror:0.18534659999999997+0.0028492727914329326\tcv-train-merror:0.18260700000000002+0.0007454456385277149\n",
      "[161]\tcv-test-merror:0.18536139999999998+0.0027806941291699068\tcv-train-merror:0.18256679999999997+0.0007663102243869599\n",
      "[162]\tcv-test-merror:0.18534639999999997+0.002777574956684334\tcv-train-merror:0.1825526+0.000753756618544744\n",
      "[163]\tcv-test-merror:0.18539039999999998+0.002837457707173803\tcv-train-merror:0.1825488+0.0007269427487773747\n",
      "[164]\tcv-test-merror:0.18536119999999998+0.002876401877346068\tcv-train-merror:0.182534+0.0007272020352006717\n",
      "[165]\tcv-test-merror:0.185332+0.0028501990807661146\tcv-train-merror:0.1825048+0.0007252884667496128\n",
      "[166]\tcv-test-merror:0.1853172+0.002886635924393649\tcv-train-merror:0.1824792+0.0007128686835596028\n",
      "[167]\tcv-test-merror:0.1853612+0.00280853487783221\tcv-train-merror:0.182472+0.0007148171794242235\n",
      "[168]\tcv-test-merror:0.18531740000000002+0.002868897181845314\tcv-train-merror:0.1824424+0.0007294860108322865\n",
      "[169]\tcv-test-merror:0.1853172+0.0029215711115767834\tcv-train-merror:0.1824206+0.0007177271347803451\n",
      "[170]\tcv-test-merror:0.185405+0.0028610431663992817\tcv-train-merror:0.18242779999999997+0.0007106023923404718\n",
      "[171]\tcv-test-merror:0.18541979999999997+0.0028627644262146355\tcv-train-merror:0.1823804+0.0007193090017509875\n",
      "[172]\tcv-test-merror:0.1854052+0.002872041531733136\tcv-train-merror:0.1823988+0.0007082661646584547\n",
      "[173]\tcv-test-merror:0.18541979999999997+0.0028845552447474476\tcv-train-merror:0.18237319999999996+0.0006960630431218142\n",
      "[174]\tcv-test-merror:0.1854928+0.0029401558053953575\tcv-train-merror:0.1823658+0.0007241788176962903\n",
      "[175]\tcv-test-merror:0.18550760000000005+0.0029866565654591095\tcv-train-merror:0.1823296+0.000731531434731278\n",
      "[176]\tcv-test-merror:0.1854344+0.002936416223902871\tcv-train-merror:0.1822816+0.0007295874450674167\n",
      "[177]\tcv-test-merror:0.1854784+0.002948419074690708\tcv-train-merror:0.1822854+0.0007638886306262183\n",
      "[178]\tcv-test-merror:0.1853758+0.002888007091404035\tcv-train-merror:0.18228139999999998+0.0007167121039859709\n",
      "[179]\tcv-test-merror:0.18536139999999998+0.0029087155653311964\tcv-train-merror:0.1822962+0.000711520456487365\n",
      "[180]\tcv-test-merror:0.1852588+0.003005669802223795\tcv-train-merror:0.18225239999999998+0.0007359974456477369\n",
      "[181]\tcv-test-merror:0.18527339999999998+0.002973194013178417\tcv-train-merror:0.1822452+0.0007508883805200379\n",
      "[182]\tcv-test-merror:0.1853172+0.003020158764038736\tcv-train-merror:0.18221959999999998+0.0007234156758047154\n",
      "[183]\tcv-test-merror:0.18539019999999998+0.0029774219318061007\tcv-train-merror:0.18221179999999998+0.0006918873896812963\n",
      "[184]\tcv-test-merror:0.1853608+0.002998277865708916\tcv-train-merror:0.182234+0.0007094203267457147\n",
      "[185]\tcv-test-merror:0.18539039999999998+0.003046619280448408\tcv-train-merror:0.18221579999999998+0.0007208576558516913\n",
      "[186]\tcv-test-merror:0.1853612+0.003029942798139923\tcv-train-merror:0.182227+0.0007297289907904146\n",
      "[187]\tcv-test-merror:0.185332+0.003121332664103583\tcv-train-merror:0.1822268+0.0007454827697539355\n",
      "[188]\tcv-test-merror:0.1853024+0.0031118702800727372\tcv-train-merror:0.1822014+0.0007396984791115866\n",
      "[189]\tcv-test-merror:0.1853318+0.00313906848603212\tcv-train-merror:0.182172+0.0007271583046352391\n",
      "[190]\tcv-test-merror:0.1853172+0.00303544404659351\tcv-train-merror:0.1821428+0.0007335086638888495\n",
      "[191]\tcv-test-merror:0.1852586+0.0031020443968454055\tcv-train-merror:0.1821426+0.0007202306852668771\n",
      "[192]\tcv-test-merror:0.1852588+0.003110079445930603\tcv-train-merror:0.1821318+0.0007129789337701368\n",
      "[193]\tcv-test-merror:0.1852442+0.0031076984667113396\tcv-train-merror:0.18209139999999996+0.0006810288099632821\n",
      "[194]\tcv-test-merror:0.1852148+0.0031320993215413827\tcv-train-merror:0.1821024+0.0006861829493655466\n",
      "[195]\tcv-test-merror:0.18524400000000002+0.0031692411710060836\tcv-train-merror:0.18209139999999996+0.0007207664254111702\n",
      "[196]\tcv-test-merror:0.18527359999999998+0.003156862340996192\tcv-train-merror:0.18203299999999997+0.0006849487572074284\n",
      "[197]\tcv-test-merror:0.18518559999999998+0.0030985360156047864\tcv-train-merror:0.1820696+0.0006837793796247498\n",
      "[198]\tcv-test-merror:0.1852588+0.0030739384118749023\tcv-train-merror:0.18205140000000003+0.0006751623804685808\n",
      "[199]\tcv-test-merror:0.1852588+0.003070749771635581\tcv-train-merror:0.18202919999999997+0.0006945992801608703\n",
      "[200]\tcv-test-merror:0.18527339999999998+0.0030927718053551908\tcv-train-merror:0.1819928+0.0006745488566442073\n",
      "[201]\tcv-test-merror:0.18522919999999998+0.0031324049802029133\tcv-train-merror:0.1820184+0.0006844374624463532\n",
      "[202]\tcv-test-merror:0.18522940000000002+0.0030982020979916742\tcv-train-merror:0.18201079999999997+0.0006710172576022198\n",
      "[203]\tcv-test-merror:0.1851416+0.0030739062835421684\tcv-train-merror:0.18198920000000002+0.0006541802198171444\n",
      "[204]\tcv-test-merror:0.1851708+0.0031223257613516224\tcv-train-merror:0.18196+0.000722342578005761\n",
      "[205]\tcv-test-merror:0.1852002+0.0031953042046102514\tcv-train-merror:0.1819634+0.0006723596061632511\n",
      "[206]\tcv-test-merror:0.1851708+0.003185463382304052\tcv-train-merror:0.18195640000000002+0.0006687276276631676\n",
      "[207]\tcv-test-merror:0.18522919999999998+0.0031150320319380392\tcv-train-merror:0.1819232+0.0006909406342081813\n",
      "[208]\tcv-test-merror:0.1852588+0.0030388863354854218\tcv-train-merror:0.18190860000000003+0.0006729560461129746\n",
      "[209]\tcv-test-merror:0.1852882+0.0030110529321152775\tcv-train-merror:0.18188660000000004+0.00064391819356188\n",
      "[210]\tcv-test-merror:0.18521479999999999+0.003103087456066943\tcv-train-merror:0.1818354+0.000639989562414881\n",
      "[211]\tcv-test-merror:0.1852294+0.0031062964829520067\tcv-train-merror:0.1818136+0.0006732867442627956\n",
      "[212]\tcv-test-merror:0.18521459999999998+0.0030922092167251585\tcv-train-merror:0.18181340000000001+0.0006922550397071909\n",
      "[213]\tcv-test-merror:0.1852442+0.00310429118479566\tcv-train-merror:0.181788+0.0006811895477765373\n",
      "[214]\tcv-test-merror:0.18524400000000002+0.003078321685594282\tcv-train-merror:0.18182079999999998+0.0006744269864114297\n",
      "[215]\tcv-test-merror:0.18522940000000002+0.0030813328674455186\tcv-train-merror:0.1818172+0.0006898415470236593\n",
      "[216]\tcv-test-merror:0.18520019999999998+0.003132887320029242\tcv-train-merror:0.18175840000000004+0.000631608929639221\n",
      "[217]\tcv-test-merror:0.18518559999999998+0.0031691825823073013\tcv-train-merror:0.1817296+0.000653139066355702\n",
      "[218]\tcv-test-merror:0.18525879999999997+0.003198025791015449\tcv-train-merror:0.1817626+0.0006385880048983068\n",
      "[219]\tcv-test-merror:0.18524399999999996+0.0031844809938198723\tcv-train-merror:0.1817292+0.0006878858626254847\n",
      "[220]\tcv-test-merror:0.18515639999999997+0.0031807477485647933\tcv-train-merror:0.1816782+0.0006695764034074052\n",
      "[221]\tcv-test-merror:0.18518559999999998+0.0031884772917491516\tcv-train-merror:0.1816562+0.0006823598464153693\n",
      "[222]\tcv-test-merror:0.1852588+0.0031961669167926776\tcv-train-merror:0.1816344+0.0006917402980888077\n",
      "[223]\tcv-test-merror:0.18520019999999998+0.003240529734472432\tcv-train-merror:0.181649+0.0006995667230507741\n",
      "[224]\tcv-test-merror:0.18518559999999998+0.0032284027381973245\tcv-train-merror:0.18160140000000002+0.0007131927088802895\n",
      "[225]\tcv-test-merror:0.1851562+0.0032272685292674317\tcv-train-merror:0.1815942+0.000732780840360879\n",
      "[226]\tcv-test-merror:0.1851124+0.0032614576863727687\tcv-train-merror:0.18154659999999997+0.0007001293023435004\n",
      "[227]\tcv-test-merror:0.18512699999999999+0.0031866923918069056\tcv-train-merror:0.18155739999999998+0.0006777688691582182\n",
      "[228]\tcv-test-merror:0.185054+0.003222823854944599\tcv-train-merror:0.1815172+0.0006648823655354379\n",
      "[229]\tcv-test-merror:0.1850686+0.003218150748488945\tcv-train-merror:0.18150260000000001+0.0006162569593927519\n",
      "[230]\tcv-test-merror:0.1851124+0.00320709379968843\tcv-train-merror:0.18149520000000002+0.0005814029239692587\n",
      "[231]\tcv-test-merror:0.1850686+0.0032399171347428013\tcv-train-merror:0.18151+0.0006063804086545022\n",
      "[232]\tcv-test-merror:0.1850832+0.0032181943011570947\tcv-train-merror:0.181528+0.0006110112928579941\n",
      "[233]\tcv-test-merror:0.1850686+0.0032257137256737453\tcv-train-merror:0.1815064+0.000617622732742241\n",
      "[234]\tcv-test-merror:0.1851708+0.003195051010547408\tcv-train-merror:0.1815062+0.0006435897451016405\n",
      "[235]\tcv-test-merror:0.1850832+0.0031135318466333356\tcv-train-merror:0.18149880000000002+0.0006889654272893509\n",
      "[236]\tcv-test-merror:0.1851124+0.0031136134377921726\tcv-train-merror:0.1814918+0.0006906847037541826\n",
      "[237]\tcv-test-merror:0.18512679999999998+0.00306270804354578\tcv-train-merror:0.18145519999999998+0.0006736472073719331\n",
      "[238]\tcv-test-merror:0.1850832+0.0031177118147769868\tcv-train-merror:0.1814294+0.0006875651532763971\n",
      "[239]\tcv-test-merror:0.1850686+0.0031467994279902886\tcv-train-merror:0.18141120000000002+0.0006905300572748488\n",
      "[240]\tcv-test-merror:0.1851124+0.003178330165354132\tcv-train-merror:0.18140740000000002+0.0006680232331289084\n",
      "[241]\tcv-test-merror:0.1850832+0.0031691646470324076\tcv-train-merror:0.18139639999999999+0.0006673873238232842\n",
      "[242]\tcv-test-merror:0.1851124+0.0031520749102773586\tcv-train-merror:0.181411+0.0006872335847439365\n",
      "[243]\tcv-test-merror:0.18512699999999999+0.003212664750639256\tcv-train-merror:0.1813854+0.0006768452112558671\n",
      "[244]\tcv-test-merror:0.1851856+0.0031617379777584315\tcv-train-merror:0.1813636+0.0007002658352368752\n",
      "[245]\tcv-test-merror:0.1851272+0.003209796840923115\tcv-train-merror:0.18136000000000002+0.0007279030155178596\n",
      "[246]\tcv-test-merror:0.18512720000000002+0.0032710413265503043\tcv-train-merror:0.1813748+0.0006922538262805082\n",
      "[247]\tcv-test-merror:0.18511260000000002+0.0032570606134979976\tcv-train-merror:0.18135280000000004+0.0007172359165574509\n",
      "[248]\tcv-test-merror:0.18508339999999998+0.0033063279692129785\tcv-train-merror:0.18134540000000002+0.0007358438964889174\n",
      "[249]\tcv-test-merror:0.1850542+0.0032797823952207573\tcv-train-merror:0.1813418+0.0007547692097588563\n",
      "[250]\tcv-test-merror:0.185098+0.0032616108290229786\tcv-train-merror:0.1813052+0.0007105736837232272\n",
      "[251]\tcv-test-merror:0.18515639999999997+0.0032851216476715165\tcv-train-merror:0.18128680000000003+0.000704365643682314\n",
      "[252]\tcv-test-merror:0.18517100000000003+0.003266580230148952\tcv-train-merror:0.18129059999999997+0.0006871740972999486\n",
      "[253]\tcv-test-merror:0.1851272+0.0033012043499304937\tcv-train-merror:0.18127200000000002+0.00068949981870919\n",
      "[254]\tcv-test-merror:0.18512699999999999+0.0033416966349445873\tcv-train-merror:0.18125019999999997+0.0007112938633223257\n",
      "[255]\tcv-test-merror:0.1851272+0.0033012043499304937\tcv-train-merror:0.1812356+0.0007048099318256021\n",
      "[256]\tcv-test-merror:0.18509799999999998+0.0033105635169861963\tcv-train-merror:0.1812246+0.0006841782223953049\n",
      "[257]\tcv-test-merror:0.1851272+0.0033101877529832075\tcv-train-merror:0.1811956+0.000705563774580299\n",
      "[258]\tcv-test-merror:0.18509799999999998+0.0033011919665478394\tcv-train-merror:0.1811916+0.0006937364341015993\n",
      "[259]\tcv-test-merror:0.18509799999999998+0.003309271097991215\tcv-train-merror:0.1811516+0.0006887997096398928\n",
      "[260]\tcv-test-merror:0.1851562+0.003375295151538601\tcv-train-merror:0.1811404+0.000682343491212452\n",
      "[261]\tcv-test-merror:0.1851126+0.0034007064324931076\tcv-train-merror:0.1810966+0.0006592561262513949\n",
      "[262]\tcv-test-merror:0.1851856+0.003401019823523522\tcv-train-merror:0.1810892+0.0006720358323780061\n",
      "[263]\tcv-test-merror:0.18517099999999997+0.0033305033853758526\tcv-train-merror:0.18106360000000002+0.0006605538887933338\n",
      "[264]\tcv-test-merror:0.18518559999999998+0.0033177495143545763\tcv-train-merror:0.1810454+0.0006779559277711193\n",
      "[265]\tcv-test-merror:0.18514179999999997+0.003304281065526959\tcv-train-merror:0.1810348+0.0006610786337494205\n",
      "[266]\tcv-test-merror:0.18517099999999997+0.003312556293861283\tcv-train-merror:0.181038+0.0006594703935735064\n",
      "[267]\tcv-test-merror:0.18515639999999997+0.0033083232973819235\tcv-train-merror:0.18102720000000003+0.0006819775362869385\n",
      "[268]\tcv-test-merror:0.1851416+0.0032779344471785886\tcv-train-merror:0.1809944+0.0006810326277058958\n",
      "[269]\tcv-test-merror:0.18512699999999999+0.003290323509930296\tcv-train-merror:0.18097239999999998+0.0006846340920520918\n",
      "[270]\tcv-test-merror:0.1851562+0.0032773268619409883\tcv-train-merror:0.18099060000000003+0.0006658103633918629\n",
      "[271]\tcv-test-merror:0.1851124+0.003277404375416619\tcv-train-merror:0.18096879999999999+0.0006807273756798642\n",
      "[272]\tcv-test-merror:0.1851124+0.0032384567682771327\tcv-train-merror:0.18097979999999997+0.0006825327537928074\n",
      "[273]\tcv-test-merror:0.1850832+0.0032393655181223347\tcv-train-merror:0.18094680000000002+0.0006289026633748647\n",
      "[274]\tcv-test-merror:0.1850542+0.0032339318112786417\tcv-train-merror:0.18091+0.0006576953702132916\n",
      "[275]\tcv-test-merror:0.1851418+0.003240498443141112\tcv-train-merror:0.18087340000000002+0.0006523979153860062\n",
      "[276]\tcv-test-merror:0.18512699999999999+0.0031978199448999575\tcv-train-merror:0.18087740000000002+0.0006797374787371983\n",
      "[277]\tcv-test-merror:0.18514179999999997+0.0032106653142300536\tcv-train-merror:0.1808918+0.0006792788529021037\n",
      "[278]\tcv-test-merror:0.1851858+0.003241073982494071\tcv-train-merror:0.180892+0.0006680212571468033\n"
     ]
    },
    {
     "name": "stdout",
     "output_type": "stream",
     "text": [
      "\n",
      "Model Report\n",
      "Accuracy : 0.8179\n",
      "Confusion matrix:\n",
      "[[54290   646     5]\n",
      " [ 9448  1587     4]\n",
      " [ 1871   475    27]]\n"
     ]
    },
    {
     "name": "stderr",
     "output_type": "stream",
     "text": [
      "Stopping. Best iteration:\n",
      "[228] cv-mean:0.185054\tcv-std:0.003222823854944599\n"
     ]
    },
    {
     "data": {
      "image/png": "[encoded data removed]",
      "text/plain": [
       "<matplotlib.figure.Figure at 0xe8cac815c0>"
      ]
     },
     "metadata": {},
     "output_type": "display_data"
    }
   ],
   "source": [
    "xgb_modelfit(xgc,X_train,y_train)"
   ]
  },
  {
   "cell_type": "code",
   "execution_count": 19,
   "metadata": {
    "collapsed": false
   },
   "outputs": [],
   "source": [
    "xgb_status = xgc.predict(X_test)"
   ]
  },
  {
   "cell_type": "code",
   "execution_count": 20,
   "metadata": {
    "collapsed": true
   },
   "outputs": [],
   "source": [
    "#Do the sklearn model fit"
   ]
  },
  {
   "cell_type": "code",
   "execution_count": 21,
   "metadata": {
    "collapsed": true
   },
   "outputs": [],
   "source": [
    "def modelfit(alg, X_train, y_train, useTrainCV=True, cv_folds=10):\n",
    "    \n",
    "    if useTrainCV:\n",
    "        cv_score = cross_validation.cross_val_score(alg, X_train, y_train, cv=cv_folds, scoring='accuracy')\n",
    "        print(cv_score.mean())\n",
    "        #print('estimaters : '+str(cv_score.shape[0]))\n",
    "        #alg.set_params(n_estimators=cv_score.shape[0])\n",
    "    \n",
    "    #Fit the algorithm on the data\n",
    "    alg.fit(X_train, y_train)\n",
    "        \n",
    "    #Predict training set:\n",
    "    dtrain_predictions = alg.predict(X_train)\n",
    "        \n",
    "    #Print model report:\n",
    "    print(\"\\nModel Report\")\n",
    "    print(\"Accuracy : %.4g\" % metrics.accuracy_score(y_train.values, dtrain_predictions))\n",
    "    print(\"Confusion matrix:\")\n",
    "    print(metrics.confusion_matrix(y_train.values, dtrain_predictions,labels=[0,1,2]))\n",
    "    #feat_imp = pd.Series(alg.feature_importances_).sort_values(ascending=False)\n",
    "    #feat_imp.plot(kind='bar', title='Feature Importances')\n",
    "    #plt.ylabel('Feature Importance Score')"
   ]
  },
  {
   "cell_type": "code",
   "execution_count": 22,
   "metadata": {
    "collapsed": false
   },
   "outputs": [
    {
     "name": "stdout",
     "output_type": "stream",
     "text": [
      "0.803095668934\n",
      "\n",
      "Model Report\n",
      "Accuracy : 0.8157\n",
      "Confusion matrix:\n",
      "[[54127   803    11]\n",
      " [ 9426  1593    20]\n",
      " [ 1993   343    37]]\n"
     ]
    }
   ],
   "source": [
    "knn = KNeighborsClassifier(n_neighbors=14)\n",
    "modelfit(knn,X_train,y_train)\n",
    "knn_status = knn.predict(X_test)"
   ]
  },
  {
   "cell_type": "code",
   "execution_count": 23,
   "metadata": {
    "collapsed": false
   },
   "outputs": [
    {
     "name": "stdout",
     "output_type": "stream",
     "text": [
      "0.815677501624\n",
      "\n",
      "Model Report\n",
      "Accuracy : 0.8169\n",
      "Confusion matrix:\n",
      "[[54088   853     0]\n",
      " [ 9289  1750     0]\n",
      " [ 1807   564     2]]\n"
     ]
    }
   ],
   "source": [
    "gbm = GradientBoostingClassifier(n_estimators=100, learning_rate=0.1,max_features=13)\n",
    "modelfit(gbm,X_train,y_train)\n",
    "gbm_status = gbm.predict(X_test)"
   ]
  },
  {
   "cell_type": "code",
   "execution_count": 24,
   "metadata": {
    "collapsed": true
   },
   "outputs": [],
   "source": [
    "submission = pd.DataFrame()"
   ]
  },
  {
   "cell_type": "code",
   "execution_count": 25,
   "metadata": {
    "collapsed": false
   },
   "outputs": [],
   "source": [
    "submission['Email_ID'] = emailids\n",
    "submission['xgb_status'] = xgb_status\n",
    "submission['knn_status'] = knn_status\n",
    "submission['gbm_status'] = gbm_status\n",
    "submission['Email_Status'] = submission[['xgb_status','knn_status','gbm_status']].mode(axis=1)"
   ]
  },
  {
   "cell_type": "code",
   "execution_count": 26,
   "metadata": {
    "collapsed": false
   },
   "outputs": [],
   "source": [
    "submission.to_csv('ensemble.csv', index=False,columns=['Email_ID','Email_Status'])"
   ]
  },
  {
   "cell_type": "code",
   "execution_count": 27,
   "metadata": {
    "collapsed": true
   },
   "outputs": [],
   "source": [
    "submission.to_csv('xgb2.csv', index=False,columns=['Email_ID','xgb_status'],header=['Email_ID','Email_Status'])\n",
    "submission.to_csv('knn2.csv', index=False,columns=['Email_ID','knn_status'],header=['Email_ID','Email_Status'])\n",
    "submission.to_csv('gbm2.csv', index=False,columns=['Email_ID','gbm_status'],header=['Email_ID','Email_Status'])"
   ]
  }
 ],
 "metadata": {
  "kernelspec": {
   "display_name": "Python 3",
   "language": "python",
   "name": "python3"
  },
  "language_info": {
   "codemirror_mode": {
    "name": "ipython",
    "version": 3
   },
   "file_extension": ".py",
   "mimetype": "text/x-python",
   "name": "python",
   "nbconvert_exporter": "python",
   "pygments_lexer": "ipython3",
   "version": "3.5.1"
  }
 },
 "nbformat": 4,
 "nbformat_minor": 0
}
